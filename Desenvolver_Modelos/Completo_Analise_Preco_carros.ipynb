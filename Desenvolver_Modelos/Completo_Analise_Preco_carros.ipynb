{
 "cells": [
  {
   "cell_type": "code",
   "execution_count": null,
   "metadata": {},
   "outputs": [],
   "source": [
    "import pandas as pd\n",
    "import matplotlib.pyplot as plt\n",
    "import seaborn as sns\n",
    "import scipy as sp\n",
    "from sklearn.linear_model import LinearRegression\n"
   ]
  },
  {
   "cell_type": "code",
   "execution_count": null,
   "metadata": {},
   "outputs": [],
   "source": [
    "data=pd.read_csv(\"car_price_dataset.csv\")\n",
    "df=pd.DataFrame(data)\n",
    "df1=df.iloc[: 1000, :]\n",
    "df1.head(2)"
   ]
  },
  {
   "cell_type": "code",
   "execution_count": null,
   "metadata": {},
   "outputs": [],
   "source": [
    "df2=df.loc[9000 :,[\"Mileage\",\"Year\"]]\n",
    "dfPrice=df.loc[9000 :,[\"Price\"]]"
   ]
  },
  {
   "cell_type": "code",
   "execution_count": null,
   "metadata": {},
   "outputs": [],
   "source": [
    "df.info()"
   ]
  },
  {
   "cell_type": "code",
   "execution_count": null,
   "metadata": {},
   "outputs": [],
   "source": [
    "# 1º Verificar variavéis independentes com correlação mais forte á variável dependente\n",
    "\n",
    "for i in df1.select_dtypes([\"number\"]):\n",
    "    pearson_coef,P_value=sp.stats.pearsonr(df[i],df[\"Price\"])\n",
    "    print(i,\" Pers.Coef=\",pearson_coef,\"; P_value=\",P_value)"
   ]
  },
  {
   "cell_type": "code",
   "execution_count": null,
   "metadata": {},
   "outputs": [],
   "source": [
    "# Verificar no gráfico\n",
    "\n",
    "sns.regplot(x=df1[\"Price\"],y=df1[\"Mileage\"])"
   ]
  },
  {
   "cell_type": "code",
   "execution_count": null,
   "metadata": {},
   "outputs": [],
   "source": [
    "sns.regplot(x=df1[\"Price\"],y=df1[\"Year\"])"
   ]
  },
  {
   "cell_type": "code",
   "execution_count": null,
   "metadata": {},
   "outputs": [],
   "source": [
    "# 2º Desenvolver modelo preditivo com variáveis independentes com correlação mais forte\n",
    "\n",
    "lm=LinearRegression()"
   ]
  },
  {
   "cell_type": "code",
   "execution_count": null,
   "metadata": {},
   "outputs": [],
   "source": [
    "lm.fit(df1[[\"Mileage\",\"Year\"]],df1[[\"Price\"]])"
   ]
  },
  {
   "cell_type": "code",
   "execution_count": null,
   "metadata": {},
   "outputs": [],
   "source": [
    "yhat=lm.predict(df1[[\"Mileage\",\"Year\"]])"
   ]
  },
  {
   "cell_type": "code",
   "execution_count": null,
   "metadata": {},
   "outputs": [],
   "source": [
    "yhat"
   ]
  },
  {
   "cell_type": "code",
   "execution_count": null,
   "metadata": {},
   "outputs": [],
   "source": [
    "# 3º Avaliar se modelo é apropriado\n",
    "\n",
    "sns.kdeplot(df1[\"Price\"],color=\"r\")\n",
    "sns.kdeplot(yhat)\n",
    "plt.ylabel(\"Ind. variaveis\")"
   ]
  },
  {
   "cell_type": "code",
   "execution_count": null,
   "metadata": {},
   "outputs": [],
   "source": [
    "sns.residplot(x=yhat,y=df1[\"Price\"]) # Este seria um modelo apropriado, verificação feita sobre os valores usados no treinamento"
   ]
  },
  {
   "cell_type": "code",
   "execution_count": null,
   "metadata": {},
   "outputs": [],
   "source": [
    "yhat2=lm.predict(df2)  # Prever preço de carros com \"Mileage\" e \"Year\" com amostras diferentes das usadas no treinamento"
   ]
  },
  {
   "cell_type": "code",
   "execution_count": null,
   "metadata": {},
   "outputs": [],
   "source": [
    "# Gráfico de distribuição não dá tão certo como o primeiro, como era de esperar\n",
    "\n",
    "sns.kdeplot(yhat2)\n",
    "sns.kdeplot(dfPrice[\"Price\"],color=\"green\")\n",
    "plt.ylabel(\"var. Independentes\")"
   ]
  },
  {
   "cell_type": "code",
   "execution_count": null,
   "metadata": {},
   "outputs": [],
   "source": []
  }
 ],
 "metadata": {
  "kernelspec": {
   "display_name": "Python 3",
   "language": "python",
   "name": "python3"
  },
  "language_info": {
   "codemirror_mode": {
    "name": "ipython",
    "version": 3
   },
   "file_extension": ".py",
   "mimetype": "text/x-python",
   "name": "python",
   "nbconvert_exporter": "python",
   "pygments_lexer": "ipython3",
   "version": "3.10.0"
  }
 },
 "nbformat": 4,
 "nbformat_minor": 2
}
