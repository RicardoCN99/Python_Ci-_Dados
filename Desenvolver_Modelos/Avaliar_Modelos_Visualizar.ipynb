{
 "cells": [
  {
   "cell_type": "code",
   "execution_count": null,
   "metadata": {},
   "outputs": [],
   "source": [
    "from sklearn.linear_model import LinearRegression\n",
    "import pandas as pd\n",
    "import seaborn as sns\n",
    "import matplotlib.pylab as plt\n",
    "import numpy as np"
   ]
  },
  {
   "cell_type": "code",
   "execution_count": null,
   "metadata": {},
   "outputs": [],
   "source": [
    "url=filepath=\"https://cf-courses-data.s3.us.cloud-object-storage.appdomain.cloud/IBMDeveloperSkillsNetwork-DA0101EN-SkillsNetwork/labs/Data%20files/automobileEDA.csv\"\n",
    "data=pd.read_csv(url)\n",
    "data"
   ]
  },
  {
   "cell_type": "code",
   "execution_count": null,
   "metadata": {},
   "outputs": [],
   "source": [
    "df=pd.DataFrame(data)\n",
    "df.columns"
   ]
  },
  {
   "cell_type": "code",
   "execution_count": null,
   "metadata": {},
   "outputs": [],
   "source": [
    "x=df[[\"highway-mpg\"]]\n",
    "y=df[[\"price\"]]\n",
    "lm=LinearRegression()\n",
    "lm.fit(x,y)"
   ]
  },
  {
   "cell_type": "code",
   "execution_count": null,
   "metadata": {},
   "outputs": [],
   "source": [
    "yhat=lm.predict(x)"
   ]
  },
  {
   "cell_type": "code",
   "execution_count": null,
   "metadata": {},
   "outputs": [],
   "source": [
    "df2=pd.DataFrame(yhat)\n",
    "df2.head()"
   ]
  },
  {
   "cell_type": "markdown",
   "metadata": {},
   "source": []
  },
  {
   "cell_type": "code",
   "execution_count": null,
   "metadata": {},
   "outputs": [],
   "source": [
    "# GRÁFICO RESIDUAL (cada ponto -> valor_real-valor_previsto=valor_residual)\n",
    "# verifica a variancia entre os valores da previsão e os valores reais\n",
    "# valores devem estar dispersos entre 0 da mesma forma\n",
    "# Gráfico abaixo sugere que o grafico de regressão linear entre 2 variaveis não é apropriado\n",
    "\n",
    "sns.residplot(x=df['highway-mpg'],y=df['price'])"
   ]
  },
  {
   "cell_type": "code",
   "execution_count": null,
   "metadata": {},
   "outputs": [],
   "source": [
    "#c cria array numpy de 1 a 100 de 1 em 1, reshape tranforma array 1d numa coluna 2d com tamanho -1=len do array\n",
    "valores_a_prever=np.arange(1,101.5,0.5).reshape(201,1) \n",
    "yhat2=lm.predict(valores_a_prever)\n",
    "yhat2"
   ]
  },
  {
   "cell_type": "code",
   "execution_count": null,
   "metadata": {},
   "outputs": [],
   "source": [
    "# Gráfico de distribuição, kdeplot só necessita das variáveis\n",
    "\n",
    "sns.kdeplot(df[\"price\"],color=\"r\")\n",
    "sns.kdeplot(yhat,color=\"blue\")\n",
    "plt.ylabel(\"Count Cars\")"
   ]
  },
  {
   "cell_type": "code",
   "execution_count": null,
   "metadata": {},
   "outputs": [],
   "source": [
    "z=df[[\"horsepower\",\"highway-mpg\",\"peak-rpm\",\"wheel-base\",\"curb-weight\",\"engine-size\",\"width\"]]\n",
    "lm.fit(z,y)\n",
    "yhat=lm.predict(z)"
   ]
  },
  {
   "cell_type": "code",
   "execution_count": null,
   "metadata": {},
   "outputs": [],
   "source": [
    "# Usando mais variáveis independentes, o preço previsto aproxima-se mais do preço real\n",
    "\n",
    "sns.kdeplot(df[\"price\"],color=\"black\")\n",
    "sns.kdeplot(yhat,color=\"r\")\n",
    "plt.ylabel(\"Count Cars\")"
   ]
  },
  {
   "cell_type": "code",
   "execution_count": null,
   "metadata": {},
   "outputs": [],
   "source": [
    "#Como visto acima, este modelo é mais apropriado, podemos confirmar no gráfico residual\n",
    "\n",
    "sns.residplot(x=yhat,y=df['price'])"
   ]
  }
 ],
 "metadata": {
  "kernelspec": {
   "display_name": "Python 3",
   "language": "python",
   "name": "python3"
  },
  "language_info": {
   "codemirror_mode": {
    "name": "ipython",
    "version": 3
   },
   "file_extension": ".py",
   "mimetype": "text/x-python",
   "name": "python",
   "nbconvert_exporter": "python",
   "pygments_lexer": "ipython3",
   "version": "3.10.0"
  }
 },
 "nbformat": 4,
 "nbformat_minor": 2
}
