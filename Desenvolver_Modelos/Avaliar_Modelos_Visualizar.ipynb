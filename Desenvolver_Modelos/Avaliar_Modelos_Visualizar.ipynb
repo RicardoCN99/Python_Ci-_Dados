{
 "cells": [
  {
   "cell_type": "code",
   "execution_count": null,
   "metadata": {},
   "outputs": [],
   "source": [
    "from sklearn.linear_model import LinearRegression\n",
    "import pandas as pd\n",
    "import seaborn as sns\n",
    "import matplotlib.pylab as plt"
   ]
  },
  {
   "cell_type": "code",
   "execution_count": null,
   "metadata": {},
   "outputs": [],
   "source": [
    "url=filepath=\"https://cf-courses-data.s3.us.cloud-object-storage.appdomain.cloud/IBMDeveloperSkillsNetwork-DA0101EN-SkillsNetwork/labs/Data%20files/automobileEDA.csv\"\n",
    "data=pd.read_csv(url)\n",
    "data"
   ]
  },
  {
   "cell_type": "code",
   "execution_count": null,
   "metadata": {},
   "outputs": [],
   "source": [
    "df=pd.DataFrame(data)\n",
    "df.columns"
   ]
  },
  {
   "cell_type": "code",
   "execution_count": null,
   "metadata": {},
   "outputs": [],
   "source": [
    "x=df[[\"highway-mpg\"]]\n",
    "y=df[[\"price\"]]\n",
    "lm=LinearRegression()\n",
    "lm.fit(x,y)"
   ]
  },
  {
   "cell_type": "code",
   "execution_count": null,
   "metadata": {},
   "outputs": [],
   "source": [
    "yhat=lm.predict(x)"
   ]
  },
  {
   "cell_type": "code",
   "execution_count": null,
   "metadata": {},
   "outputs": [],
   "source": [
    "df2=pd.DataFrame(yhat)\n",
    "df2.head()"
   ]
  },
  {
   "cell_type": "code",
   "execution_count": null,
   "metadata": {},
   "outputs": [],
   "source": [
    "# GRÁFICO RESIDUAL (cada ponto -> valor_real-valor_previsto=valor_residual)\n",
    "# verifica a variancia entre os valores da previsão e os valores reais\n",
    "# valores devem estar dispersos entre 0 da mesma forma\n",
    "# Gráfico abaixo sugere que o grafico de regressão linear entre 2 variaveis não é apropriado\n",
    "\n",
    "sns.residplot(x=df['highway-mpg'],y=df['price'])"
   ]
  },
  {
   "cell_type": "code",
   "execution_count": null,
   "metadata": {},
   "outputs": [],
   "source": [
    "# Gráfico de distribuição, kdeplot só necessita das variáveis\n",
    "\n",
    "sns.kdeplot(df[\"price\"],color=\"r\")\n",
    "sns.kdeplot(yhat,color=\"blue\")\n",
    "plt.ylabel(\"Count Cars\")"
   ]
  },
  {
   "cell_type": "code",
   "execution_count": null,
   "metadata": {},
   "outputs": [],
   "source": [
    "z=df[[\"horsepower\",\"highway-mpg\",\"peak-rpm\",\"wheel-base\",\"curb-weight\",\"engine-size\",\"width\"]]\n",
    "lm.fit(z,y)\n",
    "yhat=lm.predict(z)"
   ]
  },
  {
   "cell_type": "code",
   "execution_count": null,
   "metadata": {},
   "outputs": [],
   "source": [
    "# Usando mais variáveis independentes, o preço previsto aproxima-se mais do preço real\n",
    "\n",
    "sns.kdeplot(df[\"price\"],color=\"black\")\n",
    "sns.kdeplot(yhat,color=\"r\")\n",
    "plt.ylabel(\"Count Cars\")"
   ]
  },
  {
   "cell_type": "code",
   "execution_count": null,
   "metadata": {},
   "outputs": [],
   "source": [
    "#Como visto acima, este modelo é mais apropriado, podemos confirmar no gráfico residual\n",
    "\n",
    "sns.residplot(x=yhat,y=df['price'])"
   ]
  },
  {
   "cell_type": "markdown",
   "metadata": {},
   "source": []
  }
 ],
 "metadata": {
  "kernelspec": {
   "display_name": "Python 3",
   "language": "python",
   "name": "python3"
  },
  "language_info": {
   "codemirror_mode": {
    "name": "ipython",
    "version": 3
   },
   "file_extension": ".py",
   "mimetype": "text/x-python",
   "name": "python",
   "nbconvert_exporter": "python",
   "pygments_lexer": "ipython3",
   "version": "3.10.0"
  }
 },
 "nbformat": 4,
 "nbformat_minor": 2
}
