{
 "cells": [
  {
   "cell_type": "code",
   "execution_count": null,
   "metadata": {},
   "outputs": [],
   "source": [
    "import pandas as pd\n",
    "import matplotlib.pyplot as plt\n",
    "import seaborn as sb\n",
    "from scipy import stats"
   ]
  },
  {
   "cell_type": "code",
   "execution_count": null,
   "metadata": {},
   "outputs": [],
   "source": [
    "df=pd.read_csv(\"clean_df_automoveis.csv\")\n",
    "df=pd.DataFrame(df)"
   ]
  },
  {
   "cell_type": "code",
   "execution_count": null,
   "metadata": {},
   "outputs": [],
   "source": [
    "df.columns"
   ]
  },
  {
   "cell_type": "code",
   "execution_count": null,
   "metadata": {},
   "outputs": [],
   "source": [
    "# gráfico de caixas\n",
    "\n",
    "sb.boxplot(x=\"horsepower_binning\",y=\"price\",data=df) "
   ]
  },
  {
   "cell_type": "code",
   "execution_count": null,
   "metadata": {},
   "outputs": [],
   "source": [
    "# gráfico de dispersão\n",
    "\n",
    "plt.scatter(x=\"engine-size\",y=\"price\",data=df) \n",
    "plt.xlabel(\"Engine size\")\n",
    "plt.ylabel(\"Price\")\n",
    "plt.title(\"Gráfico de Dispersão\")"
   ]
  },
  {
   "cell_type": "code",
   "execution_count": null,
   "metadata": {},
   "outputs": [],
   "source": [
    "# gráfico de regressão com forte correlação\n",
    "\n",
    "sb.regplot(x=df[\"price\"],y=df[\"highway-mpg\"])\n"
   ]
  },
  {
   "cell_type": "code",
   "execution_count": null,
   "metadata": {},
   "outputs": [],
   "source": [
    "# gráfico de regressão com forte correlação\n",
    "\n",
    "sb.regplot(x=df[\"engine-size\"],y=df[\"price\"])"
   ]
  },
  {
   "cell_type": "code",
   "execution_count": null,
   "metadata": {},
   "outputs": [],
   "source": [
    "# gráfico de regressão com fraca correlação\n",
    "\n",
    "sb.regplot(x=df[\"peak-rpm\"],y=df[\"price\"])"
   ]
  },
  {
   "cell_type": "code",
   "execution_count": null,
   "metadata": {},
   "outputs": [],
   "source": [
    "# Método do pacote stats da biblioteca scipy, fornece a força da correlação entre 2 variáveis\n",
    "# correlação_de_pearson: =1 ou =-1 forte correlação, =0 fraca correlação positiva/negativa\n",
    "#valor_p: quanto mais afastado de 0.1 maior a certeza da correlação\n",
    "\n",
    "correlação_de_pearson,Valor_p=stats.pearsonr(df[\"horsepower\"],df[\"price\"])\n",
    "print(correlação_de_pearson)\n",
    "print(Valor_p)\n",
    "\n",
    "# forte correlação "
   ]
  },
  {
   "cell_type": "code",
   "execution_count": null,
   "metadata": {},
   "outputs": [],
   "source": [
    "correlação_de_pearson,Valor_p=stats.pearsonr(df[\"peak-rpm\"],df[\"price\"])\n",
    "print(correlação_de_pearson)\n",
    "print(Valor_p)\n",
    "\n",
    "# fraca correlação"
   ]
  }
 ],
 "metadata": {
  "kernelspec": {
   "display_name": "Python 3",
   "language": "python",
   "name": "python3"
  },
  "language_info": {
   "codemirror_mode": {
    "name": "ipython",
    "version": 3
   },
   "file_extension": ".py",
   "mimetype": "text/x-python",
   "name": "python",
   "nbconvert_exporter": "python",
   "pygments_lexer": "ipython3",
   "version": "3.10.0"
  }
 },
 "nbformat": 4,
 "nbformat_minor": 2
}
