{
 "cells": [
  {
   "cell_type": "code",
   "execution_count": null,
   "metadata": {},
   "outputs": [],
   "source": [
    "# formas de lidar com dados em falta, deixar entradas vazias, apagar linha ou coluna, preencher com media da coluna, existem mais formas que devem ser usadas dependendo do caso."
   ]
  },
  {
   "cell_type": "code",
   "execution_count": null,
   "metadata": {},
   "outputs": [],
   "source": [
    "import pandas as pd\n",
    "import numpy as np"
   ]
  },
  {
   "cell_type": "code",
   "execution_count": null,
   "metadata": {},
   "outputs": [],
   "source": [
    "df=pd.read_csv(\"anime_20linhas.csv\",)\n",
    "df.head(2)"
   ]
  },
  {
   "cell_type": "code",
   "execution_count": null,
   "metadata": {},
   "outputs": [],
   "source": [
    "df.loc[1,\"Genre\"]=np.nan # Coloquei a NaN para exemplo\n",
    "df.loc[2,\"Rating\"]=np.nan\n",
    "df.loc[3,\"Rating\"]=np.nan\n",
    "df.head(4)"
   ]
  },
  {
   "cell_type": "code",
   "execution_count": null,
   "metadata": {},
   "outputs": [],
   "source": [
    "# 1- REMOVER LINHAS COM DADOS EM FALTA"
   ]
  },
  {
   "cell_type": "code",
   "execution_count": null,
   "metadata": {},
   "outputs": [],
   "source": [
    "# REMOVE LINHAS \"AXIS=0\" NA COLUNA \"SUBSET=\"RATINGS\"\" ONDE EXISTEM VALORES NaN\n",
    "# inplace=True muda no próprio dataframe, ignore_index=True para não saltar index das linhas apagadas\n",
    "df.dropna(subset=\"Rating\",axis=0,inplace=True, ignore_index=True) \n",
    "df.head(5)"
   ]
  },
  {
   "cell_type": "code",
   "execution_count": null,
   "metadata": {},
   "outputs": [],
   "source": [
    "df.dropna(axis=1,inplace=True) #APAGA COLUNA GENRE\n",
    "df.head(2)"
   ]
  },
  {
   "cell_type": "code",
   "execution_count": null,
   "metadata": {},
   "outputs": [],
   "source": [
    "df.loc[2,\"Rating\"]=np.nan\n",
    "df.loc[3,\"Rating\"]=np.nan\n",
    "df.head(4)"
   ]
  },
  {
   "cell_type": "code",
   "execution_count": null,
   "metadata": {},
   "outputs": [],
   "source": [
    "# 2 COMPLETAR DADOS EM FALTA COM A MÉDIA DA COLUNA"
   ]
  },
  {
   "cell_type": "code",
   "execution_count": null,
   "metadata": {},
   "outputs": [],
   "source": [
    "# Colocar media nos valores faltantes\n",
    "\n",
    "media=df[\"Rating\"].mean()\n",
    "df[\"Rating\"].replace(np.nan,media, inplace=True)\n",
    "df.head(4)"
   ]
  }
 ],
 "metadata": {
  "kernelspec": {
   "display_name": "Python 3",
   "language": "python",
   "name": "python3"
  },
  "language_info": {
   "codemirror_mode": {
    "name": "ipython",
    "version": 3
   },
   "file_extension": ".py",
   "mimetype": "text/x-python",
   "name": "python",
   "nbconvert_exporter": "python",
   "pygments_lexer": "ipython3",
   "version": "3.10.0"
  }
 },
 "nbformat": 4,
 "nbformat_minor": 2
}
