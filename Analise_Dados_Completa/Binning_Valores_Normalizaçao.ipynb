{
 "cells": [
  {
   "cell_type": "code",
   "execution_count": null,
   "metadata": {},
   "outputs": [],
   "source": [
    "import pandas as pd\n",
    "import numpy as np"
   ]
  },
  {
   "cell_type": "code",
   "execution_count": null,
   "metadata": {},
   "outputs": [],
   "source": [
    "df=pd.read_csv(\"anime_20linhas.csv\")\n",
    "df.head(2)"
   ]
  },
  {
   "cell_type": "code",
   "execution_count": null,
   "metadata": {},
   "outputs": [],
   "source": [
    "# Normalizar rating entre 0 e 1\n",
    "\n",
    "df1=df[[\"Rating\"]].copy()\n",
    "\n",
    "df1[\"Rating\"]=df1[\"Rating\"]/df1[\"Rating\"].max()\n",
    "df1.head(10)"
   ]
  },
  {
   "cell_type": "code",
   "execution_count": 20,
   "metadata": {},
   "outputs": [
    {
     "data": {
      "text/plain": [
       "array([0.50862944, 0.67241963, 0.83620981, 1.        ])"
      ]
     },
     "execution_count": 20,
     "metadata": {},
     "output_type": "execute_result"
    }
   ],
   "source": [
    "titulos=[\"meh\",\"medio\",\"bom\"]\n",
    "bin=np.linspace(df1[\"Rating\"].min(),df1[\"Rating\"].max(),4)\n",
    "bin"
   ]
  },
  {
   "cell_type": "code",
   "execution_count": null,
   "metadata": {},
   "outputs": [],
   "source": [
    "#pd.cut segmenta os bins pela coluna \"Rating\", e dá-lhes o valor em titulos, \"include_lowest\" serve para escrever o valor \"meh\" no numero mais baixo \n",
    "\n",
    "df1[\"coluna-binnada\"]=pd.cut(df1[\"Rating\"],bin,labels=titulos, include_lowest=True)\n",
    "df1"
   ]
  }
 ],
 "metadata": {
  "kernelspec": {
   "display_name": "Python 3",
   "language": "python",
   "name": "python3"
  },
  "language_info": {
   "codemirror_mode": {
    "name": "ipython",
    "version": 3
   },
   "file_extension": ".py",
   "mimetype": "text/x-python",
   "name": "python",
   "nbconvert_exporter": "python",
   "pygments_lexer": "ipython3",
   "version": "3.10.0"
  }
 },
 "nbformat": 4,
 "nbformat_minor": 2
}
