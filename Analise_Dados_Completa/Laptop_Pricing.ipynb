{
 "cells": [
  {
   "cell_type": "code",
   "execution_count": 27,
   "metadata": {},
   "outputs": [],
   "source": [
    "import pandas as pd\n",
    "import numpy as np\n",
    "import matplotlib.pyplot as plt"
   ]
  },
  {
   "cell_type": "code",
   "execution_count": 28,
   "metadata": {},
   "outputs": [
    {
     "data": {
      "application/vnd.microsoft.datawrangler.viewer.v0+json": {
       "columns": [
        {
         "name": "index",
         "rawType": "int64",
         "type": "integer"
        },
        {
         "name": "Unnamed: 0",
         "rawType": "int64",
         "type": "integer"
        },
        {
         "name": "Manufacturer",
         "rawType": "object",
         "type": "string"
        },
        {
         "name": "Category",
         "rawType": "int64",
         "type": "integer"
        },
        {
         "name": "Screen",
         "rawType": "object",
         "type": "string"
        },
        {
         "name": "GPU",
         "rawType": "int64",
         "type": "integer"
        },
        {
         "name": "OS",
         "rawType": "int64",
         "type": "integer"
        },
        {
         "name": "CPU_core",
         "rawType": "int64",
         "type": "integer"
        },
        {
         "name": "Screen_Size_cm",
         "rawType": "float64",
         "type": "float"
        },
        {
         "name": "CPU_frequency",
         "rawType": "float64",
         "type": "float"
        },
        {
         "name": "RAM_GB",
         "rawType": "int64",
         "type": "integer"
        },
        {
         "name": "Storage_GB_SSD",
         "rawType": "int64",
         "type": "integer"
        },
        {
         "name": "Weight_kg",
         "rawType": "float64",
         "type": "float"
        },
        {
         "name": "Price",
         "rawType": "int64",
         "type": "integer"
        }
       ],
       "conversionMethod": "pd.DataFrame",
       "ref": "d1c8901a-d4df-4452-8a02-b1ba72288009",
       "rows": [
        [
         "0",
         "0",
         "Acer",
         "4",
         "IPS Panel",
         "2",
         "1",
         "5",
         "35.56",
         "1.6",
         "8",
         "256",
         "1.6",
         "978"
        ],
        [
         "1",
         "1",
         "Dell",
         "3",
         "Full HD",
         "1",
         "1",
         "3",
         "39.624",
         "2.0",
         "4",
         "256",
         "2.2",
         "634"
        ]
       ],
       "shape": {
        "columns": 13,
        "rows": 2
       }
      },
      "text/html": [
       "<div>\n",
       "<style scoped>\n",
       "    .dataframe tbody tr th:only-of-type {\n",
       "        vertical-align: middle;\n",
       "    }\n",
       "\n",
       "    .dataframe tbody tr th {\n",
       "        vertical-align: top;\n",
       "    }\n",
       "\n",
       "    .dataframe thead th {\n",
       "        text-align: right;\n",
       "    }\n",
       "</style>\n",
       "<table border=\"1\" class=\"dataframe\">\n",
       "  <thead>\n",
       "    <tr style=\"text-align: right;\">\n",
       "      <th></th>\n",
       "      <th>Unnamed: 0</th>\n",
       "      <th>Manufacturer</th>\n",
       "      <th>Category</th>\n",
       "      <th>Screen</th>\n",
       "      <th>GPU</th>\n",
       "      <th>OS</th>\n",
       "      <th>CPU_core</th>\n",
       "      <th>Screen_Size_cm</th>\n",
       "      <th>CPU_frequency</th>\n",
       "      <th>RAM_GB</th>\n",
       "      <th>Storage_GB_SSD</th>\n",
       "      <th>Weight_kg</th>\n",
       "      <th>Price</th>\n",
       "    </tr>\n",
       "  </thead>\n",
       "  <tbody>\n",
       "    <tr>\n",
       "      <th>0</th>\n",
       "      <td>0</td>\n",
       "      <td>Acer</td>\n",
       "      <td>4</td>\n",
       "      <td>IPS Panel</td>\n",
       "      <td>2</td>\n",
       "      <td>1</td>\n",
       "      <td>5</td>\n",
       "      <td>35.560</td>\n",
       "      <td>1.6</td>\n",
       "      <td>8</td>\n",
       "      <td>256</td>\n",
       "      <td>1.6</td>\n",
       "      <td>978</td>\n",
       "    </tr>\n",
       "    <tr>\n",
       "      <th>1</th>\n",
       "      <td>1</td>\n",
       "      <td>Dell</td>\n",
       "      <td>3</td>\n",
       "      <td>Full HD</td>\n",
       "      <td>1</td>\n",
       "      <td>1</td>\n",
       "      <td>3</td>\n",
       "      <td>39.624</td>\n",
       "      <td>2.0</td>\n",
       "      <td>4</td>\n",
       "      <td>256</td>\n",
       "      <td>2.2</td>\n",
       "      <td>634</td>\n",
       "    </tr>\n",
       "  </tbody>\n",
       "</table>\n",
       "</div>"
      ],
      "text/plain": [
       "   Unnamed: 0 Manufacturer  Category     Screen  GPU  OS  CPU_core  \\\n",
       "0           0         Acer         4  IPS Panel    2   1         5   \n",
       "1           1         Dell         3    Full HD    1   1         3   \n",
       "\n",
       "   Screen_Size_cm  CPU_frequency  RAM_GB  Storage_GB_SSD  Weight_kg  Price  \n",
       "0          35.560            1.6       8             256        1.6    978  \n",
       "1          39.624            2.0       4             256        2.2    634  "
      ]
     },
     "execution_count": 28,
     "metadata": {},
     "output_type": "execute_result"
    }
   ],
   "source": [
    "url=\"https://cf-courses-data.s3.us.cloud-object-storage.appdomain.cloud/IBMDeveloperSkillsNetwork-DA0101EN-Coursera/laptop_pricing_dataset_mod1.csv\"\n",
    "\n",
    "df=pd.read_csv(url, header=0)\n",
    "df.head(2)"
   ]
  },
  {
   "cell_type": "code",
   "execution_count": 29,
   "metadata": {},
   "outputs": [
    {
     "data": {
      "application/vnd.microsoft.datawrangler.viewer.v0+json": {
       "columns": [
        {
         "name": "index",
         "rawType": "int64",
         "type": "integer"
        },
        {
         "name": "Manufacturer",
         "rawType": "object",
         "type": "string"
        },
        {
         "name": "Category",
         "rawType": "int64",
         "type": "integer"
        },
        {
         "name": "Screen",
         "rawType": "object",
         "type": "string"
        },
        {
         "name": "GPU",
         "rawType": "int64",
         "type": "integer"
        },
        {
         "name": "OS",
         "rawType": "int64",
         "type": "integer"
        },
        {
         "name": "CPU_core",
         "rawType": "int64",
         "type": "integer"
        },
        {
         "name": "Screen_Size_cm",
         "rawType": "float64",
         "type": "float"
        },
        {
         "name": "CPU_frequency",
         "rawType": "float64",
         "type": "float"
        },
        {
         "name": "RAM_GB",
         "rawType": "int64",
         "type": "integer"
        },
        {
         "name": "Storage_GB_SSD",
         "rawType": "int64",
         "type": "integer"
        },
        {
         "name": "Weight_kg",
         "rawType": "float64",
         "type": "float"
        },
        {
         "name": "Price",
         "rawType": "int64",
         "type": "integer"
        }
       ],
       "conversionMethod": "pd.DataFrame",
       "ref": "08edad60-2c79-43f2-ac0d-a85b846b2ab4",
       "rows": [
        [
         "0",
         "Acer",
         "4",
         "IPS Panel",
         "2",
         "1",
         "5",
         "35.56",
         "1.6",
         "8",
         "256",
         "1.6",
         "978"
        ],
        [
         "1",
         "Dell",
         "3",
         "Full HD",
         "1",
         "1",
         "3",
         "39.624",
         "2.0",
         "4",
         "256",
         "2.2",
         "634"
        ]
       ],
       "shape": {
        "columns": 12,
        "rows": 2
       }
      },
      "text/html": [
       "<div>\n",
       "<style scoped>\n",
       "    .dataframe tbody tr th:only-of-type {\n",
       "        vertical-align: middle;\n",
       "    }\n",
       "\n",
       "    .dataframe tbody tr th {\n",
       "        vertical-align: top;\n",
       "    }\n",
       "\n",
       "    .dataframe thead th {\n",
       "        text-align: right;\n",
       "    }\n",
       "</style>\n",
       "<table border=\"1\" class=\"dataframe\">\n",
       "  <thead>\n",
       "    <tr style=\"text-align: right;\">\n",
       "      <th></th>\n",
       "      <th>Manufacturer</th>\n",
       "      <th>Category</th>\n",
       "      <th>Screen</th>\n",
       "      <th>GPU</th>\n",
       "      <th>OS</th>\n",
       "      <th>CPU_core</th>\n",
       "      <th>Screen_Size_cm</th>\n",
       "      <th>CPU_frequency</th>\n",
       "      <th>RAM_GB</th>\n",
       "      <th>Storage_GB_SSD</th>\n",
       "      <th>Weight_kg</th>\n",
       "      <th>Price</th>\n",
       "    </tr>\n",
       "  </thead>\n",
       "  <tbody>\n",
       "    <tr>\n",
       "      <th>0</th>\n",
       "      <td>Acer</td>\n",
       "      <td>4</td>\n",
       "      <td>IPS Panel</td>\n",
       "      <td>2</td>\n",
       "      <td>1</td>\n",
       "      <td>5</td>\n",
       "      <td>35.560</td>\n",
       "      <td>1.6</td>\n",
       "      <td>8</td>\n",
       "      <td>256</td>\n",
       "      <td>1.6</td>\n",
       "      <td>978</td>\n",
       "    </tr>\n",
       "    <tr>\n",
       "      <th>1</th>\n",
       "      <td>Dell</td>\n",
       "      <td>3</td>\n",
       "      <td>Full HD</td>\n",
       "      <td>1</td>\n",
       "      <td>1</td>\n",
       "      <td>3</td>\n",
       "      <td>39.624</td>\n",
       "      <td>2.0</td>\n",
       "      <td>4</td>\n",
       "      <td>256</td>\n",
       "      <td>2.2</td>\n",
       "      <td>634</td>\n",
       "    </tr>\n",
       "  </tbody>\n",
       "</table>\n",
       "</div>"
      ],
      "text/plain": [
       "  Manufacturer  Category     Screen  GPU  OS  CPU_core  Screen_Size_cm  \\\n",
       "0         Acer         4  IPS Panel    2   1         5          35.560   \n",
       "1         Dell         3    Full HD    1   1         3          39.624   \n",
       "\n",
       "   CPU_frequency  RAM_GB  Storage_GB_SSD  Weight_kg  Price  \n",
       "0            1.6       8             256        1.6    978  \n",
       "1            2.0       4             256        2.2    634  "
      ]
     },
     "execution_count": 29,
     "metadata": {},
     "output_type": "execute_result"
    }
   ],
   "source": [
    "df=df.drop(columns={\"Unnamed: 0\"},axis=1)\n",
    "df.head(2)"
   ]
  },
  {
   "cell_type": "code",
   "execution_count": 30,
   "metadata": {},
   "outputs": [
    {
     "data": {
      "application/vnd.microsoft.datawrangler.viewer.v0+json": {
       "columns": [
        {
         "name": "index",
         "rawType": "object",
         "type": "string"
        },
        {
         "name": "Manufacturer",
         "rawType": "object",
         "type": "unknown"
        },
        {
         "name": "Category",
         "rawType": "float64",
         "type": "float"
        },
        {
         "name": "Screen",
         "rawType": "object",
         "type": "unknown"
        },
        {
         "name": "GPU",
         "rawType": "float64",
         "type": "float"
        },
        {
         "name": "OS",
         "rawType": "float64",
         "type": "float"
        },
        {
         "name": "CPU_core",
         "rawType": "float64",
         "type": "float"
        },
        {
         "name": "Screen_Size_cm",
         "rawType": "float64",
         "type": "float"
        },
        {
         "name": "CPU_frequency",
         "rawType": "float64",
         "type": "float"
        },
        {
         "name": "RAM_GB",
         "rawType": "float64",
         "type": "float"
        },
        {
         "name": "Storage_GB_SSD",
         "rawType": "float64",
         "type": "float"
        },
        {
         "name": "Weight_kg",
         "rawType": "float64",
         "type": "float"
        },
        {
         "name": "Price",
         "rawType": "float64",
         "type": "float"
        }
       ],
       "conversionMethod": "pd.DataFrame",
       "ref": "93d1efa5-e5e7-4482-b2cd-99d7973d45dd",
       "rows": [
        [
         "count",
         "238",
         "238.0",
         "238",
         "238.0",
         "238.0",
         "238.0",
         "234.0",
         "238.0",
         "238.0",
         "238.0",
         "233.0",
         "238.0"
        ],
        [
         "unique",
         "11",
         null,
         "2",
         null,
         null,
         null,
         null,
         null,
         null,
         null,
         null,
         null
        ],
        [
         "top",
         "Dell",
         null,
         "Full HD",
         null,
         null,
         null,
         null,
         null,
         null,
         null,
         null,
         null
        ],
        [
         "freq",
         "71",
         null,
         "161",
         null,
         null,
         null,
         null,
         null,
         null,
         null,
         null,
         null
        ],
        [
         "mean",
         null,
         "3.2058823529411766",
         null,
         "2.1512605042016806",
         "1.0588235294117647",
         "5.630252100840337",
         "37.26961538461539",
         "2.3600840336134454",
         "7.882352941176471",
         "245.78151260504202",
         "1.8622317596566522",
         "1462.3445378151262"
        ],
        [
         "std",
         null,
         "0.7765328239083642",
         null,
         "0.6382816523418171",
         "0.23578999621109692",
         "1.2417868316797052",
         "2.9713652426257173",
         "0.41139260416917545",
         "2.4826026583597924",
         "34.7653155792181",
         "0.49433183520518004",
         "574.6076986737143"
        ],
        [
         "min",
         null,
         "1.0",
         null,
         "1.0",
         "1.0",
         "3.0",
         "30.48",
         "1.2",
         "4.0",
         "128.0",
         "0.81",
         "527.0"
        ],
        [
         "25%",
         null,
         "3.0",
         null,
         "2.0",
         "1.0",
         "5.0",
         "35.56",
         "2.0",
         "8.0",
         "256.0",
         "1.44",
         "1066.5"
        ],
        [
         "50%",
         null,
         "3.0",
         null,
         "2.0",
         "1.0",
         "5.0",
         "38.1",
         "2.5",
         "8.0",
         "256.0",
         "1.87",
         "1333.0"
        ],
        [
         "75%",
         null,
         "4.0",
         null,
         "3.0",
         "1.0",
         "7.0",
         "39.624",
         "2.7",
         "8.0",
         "256.0",
         "2.2",
         "1777.0"
        ],
        [
         "max",
         null,
         "5.0",
         null,
         "3.0",
         "2.0",
         "7.0",
         "43.942",
         "2.9",
         "16.0",
         "256.0",
         "3.6",
         "3810.0"
        ]
       ],
       "shape": {
        "columns": 12,
        "rows": 11
       }
      },
      "text/html": [
       "<div>\n",
       "<style scoped>\n",
       "    .dataframe tbody tr th:only-of-type {\n",
       "        vertical-align: middle;\n",
       "    }\n",
       "\n",
       "    .dataframe tbody tr th {\n",
       "        vertical-align: top;\n",
       "    }\n",
       "\n",
       "    .dataframe thead th {\n",
       "        text-align: right;\n",
       "    }\n",
       "</style>\n",
       "<table border=\"1\" class=\"dataframe\">\n",
       "  <thead>\n",
       "    <tr style=\"text-align: right;\">\n",
       "      <th></th>\n",
       "      <th>Manufacturer</th>\n",
       "      <th>Category</th>\n",
       "      <th>Screen</th>\n",
       "      <th>GPU</th>\n",
       "      <th>OS</th>\n",
       "      <th>CPU_core</th>\n",
       "      <th>Screen_Size_cm</th>\n",
       "      <th>CPU_frequency</th>\n",
       "      <th>RAM_GB</th>\n",
       "      <th>Storage_GB_SSD</th>\n",
       "      <th>Weight_kg</th>\n",
       "      <th>Price</th>\n",
       "    </tr>\n",
       "  </thead>\n",
       "  <tbody>\n",
       "    <tr>\n",
       "      <th>count</th>\n",
       "      <td>238</td>\n",
       "      <td>238.000000</td>\n",
       "      <td>238</td>\n",
       "      <td>238.000000</td>\n",
       "      <td>238.000000</td>\n",
       "      <td>238.000000</td>\n",
       "      <td>234.000000</td>\n",
       "      <td>238.000000</td>\n",
       "      <td>238.000000</td>\n",
       "      <td>238.000000</td>\n",
       "      <td>233.000000</td>\n",
       "      <td>238.000000</td>\n",
       "    </tr>\n",
       "    <tr>\n",
       "      <th>unique</th>\n",
       "      <td>11</td>\n",
       "      <td>NaN</td>\n",
       "      <td>2</td>\n",
       "      <td>NaN</td>\n",
       "      <td>NaN</td>\n",
       "      <td>NaN</td>\n",
       "      <td>NaN</td>\n",
       "      <td>NaN</td>\n",
       "      <td>NaN</td>\n",
       "      <td>NaN</td>\n",
       "      <td>NaN</td>\n",
       "      <td>NaN</td>\n",
       "    </tr>\n",
       "    <tr>\n",
       "      <th>top</th>\n",
       "      <td>Dell</td>\n",
       "      <td>NaN</td>\n",
       "      <td>Full HD</td>\n",
       "      <td>NaN</td>\n",
       "      <td>NaN</td>\n",
       "      <td>NaN</td>\n",
       "      <td>NaN</td>\n",
       "      <td>NaN</td>\n",
       "      <td>NaN</td>\n",
       "      <td>NaN</td>\n",
       "      <td>NaN</td>\n",
       "      <td>NaN</td>\n",
       "    </tr>\n",
       "    <tr>\n",
       "      <th>freq</th>\n",
       "      <td>71</td>\n",
       "      <td>NaN</td>\n",
       "      <td>161</td>\n",
       "      <td>NaN</td>\n",
       "      <td>NaN</td>\n",
       "      <td>NaN</td>\n",
       "      <td>NaN</td>\n",
       "      <td>NaN</td>\n",
       "      <td>NaN</td>\n",
       "      <td>NaN</td>\n",
       "      <td>NaN</td>\n",
       "      <td>NaN</td>\n",
       "    </tr>\n",
       "    <tr>\n",
       "      <th>mean</th>\n",
       "      <td>NaN</td>\n",
       "      <td>3.205882</td>\n",
       "      <td>NaN</td>\n",
       "      <td>2.151261</td>\n",
       "      <td>1.058824</td>\n",
       "      <td>5.630252</td>\n",
       "      <td>37.269615</td>\n",
       "      <td>2.360084</td>\n",
       "      <td>7.882353</td>\n",
       "      <td>245.781513</td>\n",
       "      <td>1.862232</td>\n",
       "      <td>1462.344538</td>\n",
       "    </tr>\n",
       "    <tr>\n",
       "      <th>std</th>\n",
       "      <td>NaN</td>\n",
       "      <td>0.776533</td>\n",
       "      <td>NaN</td>\n",
       "      <td>0.638282</td>\n",
       "      <td>0.235790</td>\n",
       "      <td>1.241787</td>\n",
       "      <td>2.971365</td>\n",
       "      <td>0.411393</td>\n",
       "      <td>2.482603</td>\n",
       "      <td>34.765316</td>\n",
       "      <td>0.494332</td>\n",
       "      <td>574.607699</td>\n",
       "    </tr>\n",
       "    <tr>\n",
       "      <th>min</th>\n",
       "      <td>NaN</td>\n",
       "      <td>1.000000</td>\n",
       "      <td>NaN</td>\n",
       "      <td>1.000000</td>\n",
       "      <td>1.000000</td>\n",
       "      <td>3.000000</td>\n",
       "      <td>30.480000</td>\n",
       "      <td>1.200000</td>\n",
       "      <td>4.000000</td>\n",
       "      <td>128.000000</td>\n",
       "      <td>0.810000</td>\n",
       "      <td>527.000000</td>\n",
       "    </tr>\n",
       "    <tr>\n",
       "      <th>25%</th>\n",
       "      <td>NaN</td>\n",
       "      <td>3.000000</td>\n",
       "      <td>NaN</td>\n",
       "      <td>2.000000</td>\n",
       "      <td>1.000000</td>\n",
       "      <td>5.000000</td>\n",
       "      <td>35.560000</td>\n",
       "      <td>2.000000</td>\n",
       "      <td>8.000000</td>\n",
       "      <td>256.000000</td>\n",
       "      <td>1.440000</td>\n",
       "      <td>1066.500000</td>\n",
       "    </tr>\n",
       "    <tr>\n",
       "      <th>50%</th>\n",
       "      <td>NaN</td>\n",
       "      <td>3.000000</td>\n",
       "      <td>NaN</td>\n",
       "      <td>2.000000</td>\n",
       "      <td>1.000000</td>\n",
       "      <td>5.000000</td>\n",
       "      <td>38.100000</td>\n",
       "      <td>2.500000</td>\n",
       "      <td>8.000000</td>\n",
       "      <td>256.000000</td>\n",
       "      <td>1.870000</td>\n",
       "      <td>1333.000000</td>\n",
       "    </tr>\n",
       "    <tr>\n",
       "      <th>75%</th>\n",
       "      <td>NaN</td>\n",
       "      <td>4.000000</td>\n",
       "      <td>NaN</td>\n",
       "      <td>3.000000</td>\n",
       "      <td>1.000000</td>\n",
       "      <td>7.000000</td>\n",
       "      <td>39.624000</td>\n",
       "      <td>2.700000</td>\n",
       "      <td>8.000000</td>\n",
       "      <td>256.000000</td>\n",
       "      <td>2.200000</td>\n",
       "      <td>1777.000000</td>\n",
       "    </tr>\n",
       "    <tr>\n",
       "      <th>max</th>\n",
       "      <td>NaN</td>\n",
       "      <td>5.000000</td>\n",
       "      <td>NaN</td>\n",
       "      <td>3.000000</td>\n",
       "      <td>2.000000</td>\n",
       "      <td>7.000000</td>\n",
       "      <td>43.942000</td>\n",
       "      <td>2.900000</td>\n",
       "      <td>16.000000</td>\n",
       "      <td>256.000000</td>\n",
       "      <td>3.600000</td>\n",
       "      <td>3810.000000</td>\n",
       "    </tr>\n",
       "  </tbody>\n",
       "</table>\n",
       "</div>"
      ],
      "text/plain": [
       "       Manufacturer    Category   Screen         GPU          OS    CPU_core  \\\n",
       "count           238  238.000000      238  238.000000  238.000000  238.000000   \n",
       "unique           11         NaN        2         NaN         NaN         NaN   \n",
       "top            Dell         NaN  Full HD         NaN         NaN         NaN   \n",
       "freq             71         NaN      161         NaN         NaN         NaN   \n",
       "mean            NaN    3.205882      NaN    2.151261    1.058824    5.630252   \n",
       "std             NaN    0.776533      NaN    0.638282    0.235790    1.241787   \n",
       "min             NaN    1.000000      NaN    1.000000    1.000000    3.000000   \n",
       "25%             NaN    3.000000      NaN    2.000000    1.000000    5.000000   \n",
       "50%             NaN    3.000000      NaN    2.000000    1.000000    5.000000   \n",
       "75%             NaN    4.000000      NaN    3.000000    1.000000    7.000000   \n",
       "max             NaN    5.000000      NaN    3.000000    2.000000    7.000000   \n",
       "\n",
       "        Screen_Size_cm  CPU_frequency      RAM_GB  Storage_GB_SSD   Weight_kg  \\\n",
       "count       234.000000     238.000000  238.000000      238.000000  233.000000   \n",
       "unique             NaN            NaN         NaN             NaN         NaN   \n",
       "top                NaN            NaN         NaN             NaN         NaN   \n",
       "freq               NaN            NaN         NaN             NaN         NaN   \n",
       "mean         37.269615       2.360084    7.882353      245.781513    1.862232   \n",
       "std           2.971365       0.411393    2.482603       34.765316    0.494332   \n",
       "min          30.480000       1.200000    4.000000      128.000000    0.810000   \n",
       "25%          35.560000       2.000000    8.000000      256.000000    1.440000   \n",
       "50%          38.100000       2.500000    8.000000      256.000000    1.870000   \n",
       "75%          39.624000       2.700000    8.000000      256.000000    2.200000   \n",
       "max          43.942000       2.900000   16.000000      256.000000    3.600000   \n",
       "\n",
       "              Price  \n",
       "count    238.000000  \n",
       "unique          NaN  \n",
       "top             NaN  \n",
       "freq            NaN  \n",
       "mean    1462.344538  \n",
       "std      574.607699  \n",
       "min      527.000000  \n",
       "25%     1066.500000  \n",
       "50%     1333.000000  \n",
       "75%     1777.000000  \n",
       "max     3810.000000  "
      ]
     },
     "execution_count": 30,
     "metadata": {},
     "output_type": "execute_result"
    }
   ],
   "source": [
    "df.describe(include=\"all\")"
   ]
  },
  {
   "cell_type": "code",
   "execution_count": 31,
   "metadata": {},
   "outputs": [
    {
     "data": {
      "text/plain": [
       "Manufacturer       object\n",
       "Category            int64\n",
       "Screen             object\n",
       "GPU                 int64\n",
       "OS                  int64\n",
       "CPU_core            int64\n",
       "Screen_Size_cm    float64\n",
       "CPU_frequency     float64\n",
       "RAM_GB              int64\n",
       "Storage_GB_SSD      int64\n",
       "Weight_kg         float64\n",
       "Price               int64\n",
       "dtype: object"
      ]
     },
     "execution_count": 31,
     "metadata": {},
     "output_type": "execute_result"
    }
   ],
   "source": [
    "df.dtypes"
   ]
  },
  {
   "cell_type": "code",
   "execution_count": 32,
   "metadata": {},
   "outputs": [
    {
     "name": "stdout",
     "output_type": "stream",
     "text": [
      "<class 'pandas.core.frame.DataFrame'>\n",
      "RangeIndex: 238 entries, 0 to 237\n",
      "Data columns (total 12 columns):\n",
      " #   Column          Non-Null Count  Dtype  \n",
      "---  ------          --------------  -----  \n",
      " 0   Manufacturer    238 non-null    object \n",
      " 1   Category        238 non-null    int64  \n",
      " 2   Screen          238 non-null    object \n",
      " 3   GPU             238 non-null    int64  \n",
      " 4   OS              238 non-null    int64  \n",
      " 5   CPU_core        238 non-null    int64  \n",
      " 6   Screen_Size_cm  234 non-null    float64\n",
      " 7   CPU_frequency   238 non-null    float64\n",
      " 8   RAM_GB          238 non-null    int64  \n",
      " 9   Storage_GB_SSD  238 non-null    int64  \n",
      " 10  Weight_kg       233 non-null    float64\n",
      " 11  Price           238 non-null    int64  \n",
      "dtypes: float64(3), int64(7), object(2)\n",
      "memory usage: 22.4+ KB\n"
     ]
    }
   ],
   "source": [
    "df.info()"
   ]
  },
  {
   "cell_type": "code",
   "execution_count": 33,
   "metadata": {},
   "outputs": [
    {
     "data": {
      "application/vnd.microsoft.datawrangler.viewer.v0+json": {
       "columns": [
        {
         "name": "index",
         "rawType": "int64",
         "type": "integer"
        },
        {
         "name": "Manufacturer",
         "rawType": "object",
         "type": "string"
        },
        {
         "name": "Category",
         "rawType": "int64",
         "type": "integer"
        },
        {
         "name": "Screen",
         "rawType": "object",
         "type": "string"
        },
        {
         "name": "GPU",
         "rawType": "int64",
         "type": "integer"
        },
        {
         "name": "OS",
         "rawType": "int64",
         "type": "integer"
        },
        {
         "name": "CPU_core",
         "rawType": "int64",
         "type": "integer"
        },
        {
         "name": "Screen_Size_cm",
         "rawType": "float64",
         "type": "float"
        },
        {
         "name": "CPU_frequency",
         "rawType": "float64",
         "type": "float"
        },
        {
         "name": "RAM_GB",
         "rawType": "int64",
         "type": "integer"
        },
        {
         "name": "Storage_GB_SSD",
         "rawType": "int64",
         "type": "integer"
        },
        {
         "name": "Weight_kg",
         "rawType": "float64",
         "type": "float"
        },
        {
         "name": "Price",
         "rawType": "int64",
         "type": "integer"
        }
       ],
       "conversionMethod": "pd.DataFrame",
       "ref": "d6117268-e1c8-4cc3-9b2f-a3404c97b614",
       "rows": [
        [
         "0",
         "Acer",
         "4",
         "IPS Panel",
         "2",
         "1",
         "5",
         "35.56",
         "1.6",
         "8",
         "256",
         "1.6",
         "978"
        ],
        [
         "1",
         "Dell",
         "3",
         "Full HD",
         "1",
         "1",
         "3",
         "39.62",
         "2.0",
         "4",
         "256",
         "2.2",
         "634"
        ],
        [
         "2",
         "Dell",
         "3",
         "Full HD",
         "1",
         "1",
         "7",
         "39.62",
         "2.7",
         "8",
         "256",
         "2.2",
         "946"
        ],
        [
         "3",
         "Dell",
         "4",
         "IPS Panel",
         "2",
         "1",
         "5",
         "33.78",
         "1.6",
         "8",
         "128",
         "1.22",
         "1244"
        ],
        [
         "4",
         "HP",
         "4",
         "Full HD",
         "2",
         "1",
         "7",
         "39.62",
         "1.8",
         "8",
         "256",
         "1.91",
         "837"
        ]
       ],
       "shape": {
        "columns": 12,
        "rows": 5
       }
      },
      "text/html": [
       "<div>\n",
       "<style scoped>\n",
       "    .dataframe tbody tr th:only-of-type {\n",
       "        vertical-align: middle;\n",
       "    }\n",
       "\n",
       "    .dataframe tbody tr th {\n",
       "        vertical-align: top;\n",
       "    }\n",
       "\n",
       "    .dataframe thead th {\n",
       "        text-align: right;\n",
       "    }\n",
       "</style>\n",
       "<table border=\"1\" class=\"dataframe\">\n",
       "  <thead>\n",
       "    <tr style=\"text-align: right;\">\n",
       "      <th></th>\n",
       "      <th>Manufacturer</th>\n",
       "      <th>Category</th>\n",
       "      <th>Screen</th>\n",
       "      <th>GPU</th>\n",
       "      <th>OS</th>\n",
       "      <th>CPU_core</th>\n",
       "      <th>Screen_Size_cm</th>\n",
       "      <th>CPU_frequency</th>\n",
       "      <th>RAM_GB</th>\n",
       "      <th>Storage_GB_SSD</th>\n",
       "      <th>Weight_kg</th>\n",
       "      <th>Price</th>\n",
       "    </tr>\n",
       "  </thead>\n",
       "  <tbody>\n",
       "    <tr>\n",
       "      <th>0</th>\n",
       "      <td>Acer</td>\n",
       "      <td>4</td>\n",
       "      <td>IPS Panel</td>\n",
       "      <td>2</td>\n",
       "      <td>1</td>\n",
       "      <td>5</td>\n",
       "      <td>35.56</td>\n",
       "      <td>1.6</td>\n",
       "      <td>8</td>\n",
       "      <td>256</td>\n",
       "      <td>1.60</td>\n",
       "      <td>978</td>\n",
       "    </tr>\n",
       "    <tr>\n",
       "      <th>1</th>\n",
       "      <td>Dell</td>\n",
       "      <td>3</td>\n",
       "      <td>Full HD</td>\n",
       "      <td>1</td>\n",
       "      <td>1</td>\n",
       "      <td>3</td>\n",
       "      <td>39.62</td>\n",
       "      <td>2.0</td>\n",
       "      <td>4</td>\n",
       "      <td>256</td>\n",
       "      <td>2.20</td>\n",
       "      <td>634</td>\n",
       "    </tr>\n",
       "    <tr>\n",
       "      <th>2</th>\n",
       "      <td>Dell</td>\n",
       "      <td>3</td>\n",
       "      <td>Full HD</td>\n",
       "      <td>1</td>\n",
       "      <td>1</td>\n",
       "      <td>7</td>\n",
       "      <td>39.62</td>\n",
       "      <td>2.7</td>\n",
       "      <td>8</td>\n",
       "      <td>256</td>\n",
       "      <td>2.20</td>\n",
       "      <td>946</td>\n",
       "    </tr>\n",
       "    <tr>\n",
       "      <th>3</th>\n",
       "      <td>Dell</td>\n",
       "      <td>4</td>\n",
       "      <td>IPS Panel</td>\n",
       "      <td>2</td>\n",
       "      <td>1</td>\n",
       "      <td>5</td>\n",
       "      <td>33.78</td>\n",
       "      <td>1.6</td>\n",
       "      <td>8</td>\n",
       "      <td>128</td>\n",
       "      <td>1.22</td>\n",
       "      <td>1244</td>\n",
       "    </tr>\n",
       "    <tr>\n",
       "      <th>4</th>\n",
       "      <td>HP</td>\n",
       "      <td>4</td>\n",
       "      <td>Full HD</td>\n",
       "      <td>2</td>\n",
       "      <td>1</td>\n",
       "      <td>7</td>\n",
       "      <td>39.62</td>\n",
       "      <td>1.8</td>\n",
       "      <td>8</td>\n",
       "      <td>256</td>\n",
       "      <td>1.91</td>\n",
       "      <td>837</td>\n",
       "    </tr>\n",
       "  </tbody>\n",
       "</table>\n",
       "</div>"
      ],
      "text/plain": [
       "  Manufacturer  Category     Screen  GPU  OS  CPU_core  Screen_Size_cm  \\\n",
       "0         Acer         4  IPS Panel    2   1         5           35.56   \n",
       "1         Dell         3    Full HD    1   1         3           39.62   \n",
       "2         Dell         3    Full HD    1   1         7           39.62   \n",
       "3         Dell         4  IPS Panel    2   1         5           33.78   \n",
       "4           HP         4    Full HD    2   1         7           39.62   \n",
       "\n",
       "   CPU_frequency  RAM_GB  Storage_GB_SSD  Weight_kg  Price  \n",
       "0            1.6       8             256       1.60    978  \n",
       "1            2.0       4             256       2.20    634  \n",
       "2            2.7       8             256       2.20    946  \n",
       "3            1.6       8             128       1.22   1244  \n",
       "4            1.8       8             256       1.91    837  "
      ]
     },
     "execution_count": 33,
     "metadata": {},
     "output_type": "execute_result"
    }
   ],
   "source": [
    "df[['Screen_Size_cm']]=np.round(df[['Screen_Size_cm']],2)\n",
    "df.head()"
   ]
  },
  {
   "cell_type": "code",
   "execution_count": 34,
   "metadata": {},
   "outputs": [
    {
     "data": {
      "application/vnd.microsoft.datawrangler.viewer.v0+json": {
       "columns": [
        {
         "name": "index",
         "rawType": "int64",
         "type": "integer"
        },
        {
         "name": "Manufacturer",
         "rawType": "object",
         "type": "string"
        },
        {
         "name": "Category",
         "rawType": "int64",
         "type": "integer"
        },
        {
         "name": "Screen",
         "rawType": "object",
         "type": "string"
        },
        {
         "name": "GPU",
         "rawType": "int64",
         "type": "integer"
        },
        {
         "name": "OS",
         "rawType": "int64",
         "type": "integer"
        },
        {
         "name": "CPU_core",
         "rawType": "int64",
         "type": "integer"
        },
        {
         "name": "Screen_Size_cm",
         "rawType": "float64",
         "type": "float"
        },
        {
         "name": "CPU_frequency",
         "rawType": "float64",
         "type": "float"
        },
        {
         "name": "RAM_GB",
         "rawType": "int64",
         "type": "integer"
        },
        {
         "name": "Storage_GB_SSD",
         "rawType": "int64",
         "type": "integer"
        },
        {
         "name": "Weight_kg",
         "rawType": "float64",
         "type": "float"
        },
        {
         "name": "Price",
         "rawType": "int64",
         "type": "integer"
        }
       ],
       "conversionMethod": "pd.DataFrame",
       "ref": "ebe80c73-bee5-4081-9c55-ff7f39299229",
       "rows": [
        [
         "0",
         "Acer",
         "4",
         "IPS Panel",
         "2",
         "1",
         "5",
         "35.56",
         "1.6",
         "8",
         "256",
         "1.6",
         "978"
        ],
        [
         "1",
         "Dell",
         "3",
         "Full HD",
         "1",
         "1",
         "3",
         "39.62",
         "2.0",
         "4",
         "256",
         "2.2",
         "634"
        ],
        [
         "2",
         "Dell",
         "3",
         "Full HD",
         "1",
         "1",
         "7",
         "39.62",
         "2.7",
         "8",
         "256",
         "2.2",
         "946"
        ],
        [
         "3",
         "Dell",
         "4",
         "IPS Panel",
         "2",
         "1",
         "5",
         "33.78",
         "1.6",
         "8",
         "128",
         "1.22",
         "1244"
        ],
        [
         "4",
         "HP",
         "4",
         "Full HD",
         "2",
         "1",
         "7",
         "39.62",
         "1.8",
         "8",
         "256",
         "1.91",
         "837"
        ]
       ],
       "shape": {
        "columns": 12,
        "rows": 5
       }
      },
      "text/html": [
       "<div>\n",
       "<style scoped>\n",
       "    .dataframe tbody tr th:only-of-type {\n",
       "        vertical-align: middle;\n",
       "    }\n",
       "\n",
       "    .dataframe tbody tr th {\n",
       "        vertical-align: top;\n",
       "    }\n",
       "\n",
       "    .dataframe thead th {\n",
       "        text-align: right;\n",
       "    }\n",
       "</style>\n",
       "<table border=\"1\" class=\"dataframe\">\n",
       "  <thead>\n",
       "    <tr style=\"text-align: right;\">\n",
       "      <th></th>\n",
       "      <th>Manufacturer</th>\n",
       "      <th>Category</th>\n",
       "      <th>Screen</th>\n",
       "      <th>GPU</th>\n",
       "      <th>OS</th>\n",
       "      <th>CPU_core</th>\n",
       "      <th>Screen_Size_cm</th>\n",
       "      <th>CPU_frequency</th>\n",
       "      <th>RAM_GB</th>\n",
       "      <th>Storage_GB_SSD</th>\n",
       "      <th>Weight_kg</th>\n",
       "      <th>Price</th>\n",
       "    </tr>\n",
       "  </thead>\n",
       "  <tbody>\n",
       "    <tr>\n",
       "      <th>0</th>\n",
       "      <td>Acer</td>\n",
       "      <td>4</td>\n",
       "      <td>IPS Panel</td>\n",
       "      <td>2</td>\n",
       "      <td>1</td>\n",
       "      <td>5</td>\n",
       "      <td>35.56</td>\n",
       "      <td>1.6</td>\n",
       "      <td>8</td>\n",
       "      <td>256</td>\n",
       "      <td>1.60</td>\n",
       "      <td>978</td>\n",
       "    </tr>\n",
       "    <tr>\n",
       "      <th>1</th>\n",
       "      <td>Dell</td>\n",
       "      <td>3</td>\n",
       "      <td>Full HD</td>\n",
       "      <td>1</td>\n",
       "      <td>1</td>\n",
       "      <td>3</td>\n",
       "      <td>39.62</td>\n",
       "      <td>2.0</td>\n",
       "      <td>4</td>\n",
       "      <td>256</td>\n",
       "      <td>2.20</td>\n",
       "      <td>634</td>\n",
       "    </tr>\n",
       "    <tr>\n",
       "      <th>2</th>\n",
       "      <td>Dell</td>\n",
       "      <td>3</td>\n",
       "      <td>Full HD</td>\n",
       "      <td>1</td>\n",
       "      <td>1</td>\n",
       "      <td>7</td>\n",
       "      <td>39.62</td>\n",
       "      <td>2.7</td>\n",
       "      <td>8</td>\n",
       "      <td>256</td>\n",
       "      <td>2.20</td>\n",
       "      <td>946</td>\n",
       "    </tr>\n",
       "    <tr>\n",
       "      <th>3</th>\n",
       "      <td>Dell</td>\n",
       "      <td>4</td>\n",
       "      <td>IPS Panel</td>\n",
       "      <td>2</td>\n",
       "      <td>1</td>\n",
       "      <td>5</td>\n",
       "      <td>33.78</td>\n",
       "      <td>1.6</td>\n",
       "      <td>8</td>\n",
       "      <td>128</td>\n",
       "      <td>1.22</td>\n",
       "      <td>1244</td>\n",
       "    </tr>\n",
       "    <tr>\n",
       "      <th>4</th>\n",
       "      <td>HP</td>\n",
       "      <td>4</td>\n",
       "      <td>Full HD</td>\n",
       "      <td>2</td>\n",
       "      <td>1</td>\n",
       "      <td>7</td>\n",
       "      <td>39.62</td>\n",
       "      <td>1.8</td>\n",
       "      <td>8</td>\n",
       "      <td>256</td>\n",
       "      <td>1.91</td>\n",
       "      <td>837</td>\n",
       "    </tr>\n",
       "  </tbody>\n",
       "</table>\n",
       "</div>"
      ],
      "text/plain": [
       "  Manufacturer  Category     Screen  GPU  OS  CPU_core  Screen_Size_cm  \\\n",
       "0         Acer         4  IPS Panel    2   1         5           35.56   \n",
       "1         Dell         3    Full HD    1   1         3           39.62   \n",
       "2         Dell         3    Full HD    1   1         7           39.62   \n",
       "3         Dell         4  IPS Panel    2   1         5           33.78   \n",
       "4           HP         4    Full HD    2   1         7           39.62   \n",
       "\n",
       "   CPU_frequency  RAM_GB  Storage_GB_SSD  Weight_kg  Price  \n",
       "0            1.6       8             256       1.60    978  \n",
       "1            2.0       4             256       2.20    634  \n",
       "2            2.7       8             256       2.20    946  \n",
       "3            1.6       8             128       1.22   1244  \n",
       "4            1.8       8             256       1.91    837  "
      ]
     },
     "execution_count": 34,
     "metadata": {},
     "output_type": "execute_result"
    }
   ],
   "source": [
    "df[\"Weight_kg\"]=df[\"Weight_kg\"].replace(np.nan,df[\"Weight_kg\"].mean())\n",
    "df.head()"
   ]
  },
  {
   "cell_type": "code",
   "execution_count": 35,
   "metadata": {},
   "outputs": [],
   "source": [
    "# retorna o valor mais frequente\n",
    "valor_mais_frequente=df[\"Screen_Size_cm\"].value_counts().idxmax()"
   ]
  },
  {
   "cell_type": "code",
   "execution_count": 36,
   "metadata": {},
   "outputs": [
    {
     "data": {
      "application/vnd.microsoft.datawrangler.viewer.v0+json": {
       "columns": [
        {
         "name": "index",
         "rawType": "int64",
         "type": "integer"
        },
        {
         "name": "Manufacturer",
         "rawType": "object",
         "type": "string"
        },
        {
         "name": "Category",
         "rawType": "int64",
         "type": "integer"
        },
        {
         "name": "Screen",
         "rawType": "object",
         "type": "string"
        },
        {
         "name": "GPU",
         "rawType": "int64",
         "type": "integer"
        },
        {
         "name": "OS",
         "rawType": "int64",
         "type": "integer"
        },
        {
         "name": "CPU_core",
         "rawType": "int64",
         "type": "integer"
        },
        {
         "name": "Screen_Size_cm",
         "rawType": "float64",
         "type": "float"
        },
        {
         "name": "CPU_frequency",
         "rawType": "float64",
         "type": "float"
        },
        {
         "name": "RAM_GB",
         "rawType": "int64",
         "type": "integer"
        },
        {
         "name": "Storage_GB_SSD",
         "rawType": "int64",
         "type": "integer"
        },
        {
         "name": "Weight_kg",
         "rawType": "float64",
         "type": "float"
        },
        {
         "name": "Price",
         "rawType": "int64",
         "type": "integer"
        }
       ],
       "conversionMethod": "pd.DataFrame",
       "ref": "2a84ca8f-066e-4436-a2d5-8758f2293f87",
       "rows": [
        [
         "0",
         "Acer",
         "4",
         "IPS Panel",
         "2",
         "1",
         "5",
         "35.56",
         "1.6",
         "8",
         "256",
         "1.6",
         "978"
        ],
        [
         "1",
         "Dell",
         "3",
         "Full HD",
         "1",
         "1",
         "3",
         "39.62",
         "2.0",
         "4",
         "256",
         "2.2",
         "634"
        ],
        [
         "2",
         "Dell",
         "3",
         "Full HD",
         "1",
         "1",
         "7",
         "39.62",
         "2.7",
         "8",
         "256",
         "2.2",
         "946"
        ],
        [
         "3",
         "Dell",
         "4",
         "IPS Panel",
         "2",
         "1",
         "5",
         "33.78",
         "1.6",
         "8",
         "128",
         "1.22",
         "1244"
        ],
        [
         "4",
         "HP",
         "4",
         "Full HD",
         "2",
         "1",
         "7",
         "39.62",
         "1.8",
         "8",
         "256",
         "1.91",
         "837"
        ]
       ],
       "shape": {
        "columns": 12,
        "rows": 5
       }
      },
      "text/html": [
       "<div>\n",
       "<style scoped>\n",
       "    .dataframe tbody tr th:only-of-type {\n",
       "        vertical-align: middle;\n",
       "    }\n",
       "\n",
       "    .dataframe tbody tr th {\n",
       "        vertical-align: top;\n",
       "    }\n",
       "\n",
       "    .dataframe thead th {\n",
       "        text-align: right;\n",
       "    }\n",
       "</style>\n",
       "<table border=\"1\" class=\"dataframe\">\n",
       "  <thead>\n",
       "    <tr style=\"text-align: right;\">\n",
       "      <th></th>\n",
       "      <th>Manufacturer</th>\n",
       "      <th>Category</th>\n",
       "      <th>Screen</th>\n",
       "      <th>GPU</th>\n",
       "      <th>OS</th>\n",
       "      <th>CPU_core</th>\n",
       "      <th>Screen_Size_cm</th>\n",
       "      <th>CPU_frequency</th>\n",
       "      <th>RAM_GB</th>\n",
       "      <th>Storage_GB_SSD</th>\n",
       "      <th>Weight_kg</th>\n",
       "      <th>Price</th>\n",
       "    </tr>\n",
       "  </thead>\n",
       "  <tbody>\n",
       "    <tr>\n",
       "      <th>0</th>\n",
       "      <td>Acer</td>\n",
       "      <td>4</td>\n",
       "      <td>IPS Panel</td>\n",
       "      <td>2</td>\n",
       "      <td>1</td>\n",
       "      <td>5</td>\n",
       "      <td>35.56</td>\n",
       "      <td>1.6</td>\n",
       "      <td>8</td>\n",
       "      <td>256</td>\n",
       "      <td>1.60</td>\n",
       "      <td>978</td>\n",
       "    </tr>\n",
       "    <tr>\n",
       "      <th>1</th>\n",
       "      <td>Dell</td>\n",
       "      <td>3</td>\n",
       "      <td>Full HD</td>\n",
       "      <td>1</td>\n",
       "      <td>1</td>\n",
       "      <td>3</td>\n",
       "      <td>39.62</td>\n",
       "      <td>2.0</td>\n",
       "      <td>4</td>\n",
       "      <td>256</td>\n",
       "      <td>2.20</td>\n",
       "      <td>634</td>\n",
       "    </tr>\n",
       "    <tr>\n",
       "      <th>2</th>\n",
       "      <td>Dell</td>\n",
       "      <td>3</td>\n",
       "      <td>Full HD</td>\n",
       "      <td>1</td>\n",
       "      <td>1</td>\n",
       "      <td>7</td>\n",
       "      <td>39.62</td>\n",
       "      <td>2.7</td>\n",
       "      <td>8</td>\n",
       "      <td>256</td>\n",
       "      <td>2.20</td>\n",
       "      <td>946</td>\n",
       "    </tr>\n",
       "    <tr>\n",
       "      <th>3</th>\n",
       "      <td>Dell</td>\n",
       "      <td>4</td>\n",
       "      <td>IPS Panel</td>\n",
       "      <td>2</td>\n",
       "      <td>1</td>\n",
       "      <td>5</td>\n",
       "      <td>33.78</td>\n",
       "      <td>1.6</td>\n",
       "      <td>8</td>\n",
       "      <td>128</td>\n",
       "      <td>1.22</td>\n",
       "      <td>1244</td>\n",
       "    </tr>\n",
       "    <tr>\n",
       "      <th>4</th>\n",
       "      <td>HP</td>\n",
       "      <td>4</td>\n",
       "      <td>Full HD</td>\n",
       "      <td>2</td>\n",
       "      <td>1</td>\n",
       "      <td>7</td>\n",
       "      <td>39.62</td>\n",
       "      <td>1.8</td>\n",
       "      <td>8</td>\n",
       "      <td>256</td>\n",
       "      <td>1.91</td>\n",
       "      <td>837</td>\n",
       "    </tr>\n",
       "  </tbody>\n",
       "</table>\n",
       "</div>"
      ],
      "text/plain": [
       "  Manufacturer  Category     Screen  GPU  OS  CPU_core  Screen_Size_cm  \\\n",
       "0         Acer         4  IPS Panel    2   1         5           35.56   \n",
       "1         Dell         3    Full HD    1   1         3           39.62   \n",
       "2         Dell         3    Full HD    1   1         7           39.62   \n",
       "3         Dell         4  IPS Panel    2   1         5           33.78   \n",
       "4           HP         4    Full HD    2   1         7           39.62   \n",
       "\n",
       "   CPU_frequency  RAM_GB  Storage_GB_SSD  Weight_kg  Price  \n",
       "0            1.6       8             256       1.60    978  \n",
       "1            2.0       4             256       2.20    634  \n",
       "2            2.7       8             256       2.20    946  \n",
       "3            1.6       8             128       1.22   1244  \n",
       "4            1.8       8             256       1.91    837  "
      ]
     },
     "execution_count": 36,
     "metadata": {},
     "output_type": "execute_result"
    }
   ],
   "source": [
    "df[\"Screen_Size_cm\"]=df[\"Screen_Size_cm\"].replace(np.nan,valor_mais_frequente)\n",
    "df.head()"
   ]
  },
  {
   "cell_type": "code",
   "execution_count": 37,
   "metadata": {},
   "outputs": [],
   "source": [
    "df[[\"Screen_Size_cm\",\"Weight_kg\"]]=df[[\"Screen_Size_cm\",\"Weight_kg\"]].astype(float)"
   ]
  },
  {
   "cell_type": "code",
   "execution_count": 38,
   "metadata": {},
   "outputs": [
    {
     "data": {
      "text/plain": [
       "Manufacturer       object\n",
       "Category            int64\n",
       "Screen             object\n",
       "GPU                 int64\n",
       "OS                  int64\n",
       "CPU_core            int64\n",
       "Screen_Size_cm    float64\n",
       "CPU_frequency     float64\n",
       "RAM_GB              int64\n",
       "Storage_GB_SSD      int64\n",
       "Weight_kg         float64\n",
       "Price               int64\n",
       "dtype: object"
      ]
     },
     "execution_count": 38,
     "metadata": {},
     "output_type": "execute_result"
    }
   ],
   "source": [
    "df.dtypes"
   ]
  },
  {
   "cell_type": "code",
   "execution_count": 39,
   "metadata": {},
   "outputs": [],
   "source": [
    "df[[\"Screen_Size_cm\"]]=df[[\"Screen_Size_cm\"]]/2.54\n",
    "df[[\"Weight_kg\"]]=df[[\"Weight_kg\"]]*2.205"
   ]
  },
  {
   "cell_type": "code",
   "execution_count": 40,
   "metadata": {},
   "outputs": [
    {
     "data": {
      "application/vnd.microsoft.datawrangler.viewer.v0+json": {
       "columns": [
        {
         "name": "index",
         "rawType": "int64",
         "type": "integer"
        },
        {
         "name": "Manufacturer",
         "rawType": "object",
         "type": "string"
        },
        {
         "name": "Category",
         "rawType": "int64",
         "type": "integer"
        },
        {
         "name": "Screen",
         "rawType": "object",
         "type": "string"
        },
        {
         "name": "GPU",
         "rawType": "int64",
         "type": "integer"
        },
        {
         "name": "OS",
         "rawType": "int64",
         "type": "integer"
        },
        {
         "name": "CPU_core",
         "rawType": "int64",
         "type": "integer"
        },
        {
         "name": "Screen_Size_cm",
         "rawType": "float64",
         "type": "float"
        },
        {
         "name": "CPU_frequency",
         "rawType": "float64",
         "type": "float"
        },
        {
         "name": "RAM_GB",
         "rawType": "int64",
         "type": "integer"
        },
        {
         "name": "Storage_GB_SSD",
         "rawType": "int64",
         "type": "integer"
        },
        {
         "name": "Weight_kg",
         "rawType": "float64",
         "type": "float"
        },
        {
         "name": "Price",
         "rawType": "int64",
         "type": "integer"
        }
       ],
       "conversionMethod": "pd.DataFrame",
       "ref": "8f90a9f3-78e1-4b6b-9636-858b0484ac6f",
       "rows": [
        [
         "0",
         "Acer",
         "4",
         "IPS Panel",
         "2",
         "1",
         "5",
         "14.0",
         "1.6",
         "8",
         "256",
         "3.5280000000000005",
         "978"
        ],
        [
         "1",
         "Dell",
         "3",
         "Full HD",
         "1",
         "1",
         "3",
         "15.598425196850393",
         "2.0",
         "4",
         "256",
         "4.851000000000001",
         "634"
        ],
        [
         "2",
         "Dell",
         "3",
         "Full HD",
         "1",
         "1",
         "7",
         "15.598425196850393",
         "2.7",
         "8",
         "256",
         "4.851000000000001",
         "946"
        ],
        [
         "3",
         "Dell",
         "4",
         "IPS Panel",
         "2",
         "1",
         "5",
         "13.299212598425196",
         "1.6",
         "8",
         "128",
         "2.6901",
         "1244"
        ],
        [
         "4",
         "HP",
         "4",
         "Full HD",
         "2",
         "1",
         "7",
         "15.598425196850393",
         "1.8",
         "8",
         "256",
         "4.21155",
         "837"
        ]
       ],
       "shape": {
        "columns": 12,
        "rows": 5
       }
      },
      "text/html": [
       "<div>\n",
       "<style scoped>\n",
       "    .dataframe tbody tr th:only-of-type {\n",
       "        vertical-align: middle;\n",
       "    }\n",
       "\n",
       "    .dataframe tbody tr th {\n",
       "        vertical-align: top;\n",
       "    }\n",
       "\n",
       "    .dataframe thead th {\n",
       "        text-align: right;\n",
       "    }\n",
       "</style>\n",
       "<table border=\"1\" class=\"dataframe\">\n",
       "  <thead>\n",
       "    <tr style=\"text-align: right;\">\n",
       "      <th></th>\n",
       "      <th>Manufacturer</th>\n",
       "      <th>Category</th>\n",
       "      <th>Screen</th>\n",
       "      <th>GPU</th>\n",
       "      <th>OS</th>\n",
       "      <th>CPU_core</th>\n",
       "      <th>Screen_Size_cm</th>\n",
       "      <th>CPU_frequency</th>\n",
       "      <th>RAM_GB</th>\n",
       "      <th>Storage_GB_SSD</th>\n",
       "      <th>Weight_kg</th>\n",
       "      <th>Price</th>\n",
       "    </tr>\n",
       "  </thead>\n",
       "  <tbody>\n",
       "    <tr>\n",
       "      <th>0</th>\n",
       "      <td>Acer</td>\n",
       "      <td>4</td>\n",
       "      <td>IPS Panel</td>\n",
       "      <td>2</td>\n",
       "      <td>1</td>\n",
       "      <td>5</td>\n",
       "      <td>14.000000</td>\n",
       "      <td>1.6</td>\n",
       "      <td>8</td>\n",
       "      <td>256</td>\n",
       "      <td>3.52800</td>\n",
       "      <td>978</td>\n",
       "    </tr>\n",
       "    <tr>\n",
       "      <th>1</th>\n",
       "      <td>Dell</td>\n",
       "      <td>3</td>\n",
       "      <td>Full HD</td>\n",
       "      <td>1</td>\n",
       "      <td>1</td>\n",
       "      <td>3</td>\n",
       "      <td>15.598425</td>\n",
       "      <td>2.0</td>\n",
       "      <td>4</td>\n",
       "      <td>256</td>\n",
       "      <td>4.85100</td>\n",
       "      <td>634</td>\n",
       "    </tr>\n",
       "    <tr>\n",
       "      <th>2</th>\n",
       "      <td>Dell</td>\n",
       "      <td>3</td>\n",
       "      <td>Full HD</td>\n",
       "      <td>1</td>\n",
       "      <td>1</td>\n",
       "      <td>7</td>\n",
       "      <td>15.598425</td>\n",
       "      <td>2.7</td>\n",
       "      <td>8</td>\n",
       "      <td>256</td>\n",
       "      <td>4.85100</td>\n",
       "      <td>946</td>\n",
       "    </tr>\n",
       "    <tr>\n",
       "      <th>3</th>\n",
       "      <td>Dell</td>\n",
       "      <td>4</td>\n",
       "      <td>IPS Panel</td>\n",
       "      <td>2</td>\n",
       "      <td>1</td>\n",
       "      <td>5</td>\n",
       "      <td>13.299213</td>\n",
       "      <td>1.6</td>\n",
       "      <td>8</td>\n",
       "      <td>128</td>\n",
       "      <td>2.69010</td>\n",
       "      <td>1244</td>\n",
       "    </tr>\n",
       "    <tr>\n",
       "      <th>4</th>\n",
       "      <td>HP</td>\n",
       "      <td>4</td>\n",
       "      <td>Full HD</td>\n",
       "      <td>2</td>\n",
       "      <td>1</td>\n",
       "      <td>7</td>\n",
       "      <td>15.598425</td>\n",
       "      <td>1.8</td>\n",
       "      <td>8</td>\n",
       "      <td>256</td>\n",
       "      <td>4.21155</td>\n",
       "      <td>837</td>\n",
       "    </tr>\n",
       "  </tbody>\n",
       "</table>\n",
       "</div>"
      ],
      "text/plain": [
       "  Manufacturer  Category     Screen  GPU  OS  CPU_core  Screen_Size_cm  \\\n",
       "0         Acer         4  IPS Panel    2   1         5       14.000000   \n",
       "1         Dell         3    Full HD    1   1         3       15.598425   \n",
       "2         Dell         3    Full HD    1   1         7       15.598425   \n",
       "3         Dell         4  IPS Panel    2   1         5       13.299213   \n",
       "4           HP         4    Full HD    2   1         7       15.598425   \n",
       "\n",
       "   CPU_frequency  RAM_GB  Storage_GB_SSD  Weight_kg  Price  \n",
       "0            1.6       8             256    3.52800    978  \n",
       "1            2.0       4             256    4.85100    634  \n",
       "2            2.7       8             256    4.85100    946  \n",
       "3            1.6       8             128    2.69010   1244  \n",
       "4            1.8       8             256    4.21155    837  "
      ]
     },
     "execution_count": 40,
     "metadata": {},
     "output_type": "execute_result"
    }
   ],
   "source": [
    "df.head()"
   ]
  },
  {
   "cell_type": "code",
   "execution_count": 41,
   "metadata": {},
   "outputs": [
    {
     "data": {
      "application/vnd.microsoft.datawrangler.viewer.v0+json": {
       "columns": [
        {
         "name": "index",
         "rawType": "int64",
         "type": "integer"
        },
        {
         "name": "Manufacturer",
         "rawType": "object",
         "type": "string"
        },
        {
         "name": "Category",
         "rawType": "int64",
         "type": "integer"
        },
        {
         "name": "Screen",
         "rawType": "object",
         "type": "string"
        },
        {
         "name": "GPU",
         "rawType": "int64",
         "type": "integer"
        },
        {
         "name": "OS",
         "rawType": "int64",
         "type": "integer"
        },
        {
         "name": "CPU_core",
         "rawType": "int64",
         "type": "integer"
        },
        {
         "name": "Screen_Size_inch",
         "rawType": "float64",
         "type": "float"
        },
        {
         "name": "CPU_frequency",
         "rawType": "float64",
         "type": "float"
        },
        {
         "name": "RAM_GB",
         "rawType": "int64",
         "type": "integer"
        },
        {
         "name": "Storage_GB_SSD",
         "rawType": "int64",
         "type": "integer"
        },
        {
         "name": "Weight_pounds",
         "rawType": "float64",
         "type": "float"
        },
        {
         "name": "Price",
         "rawType": "int64",
         "type": "integer"
        }
       ],
       "conversionMethod": "pd.DataFrame",
       "ref": "777399e8-aa3d-428f-b585-0a9d62823c35",
       "rows": [
        [
         "0",
         "Acer",
         "4",
         "IPS Panel",
         "2",
         "1",
         "5",
         "14.0",
         "1.6",
         "8",
         "256",
         "3.5280000000000005",
         "978"
        ],
        [
         "1",
         "Dell",
         "3",
         "Full HD",
         "1",
         "1",
         "3",
         "15.598425196850393",
         "2.0",
         "4",
         "256",
         "4.851000000000001",
         "634"
        ],
        [
         "2",
         "Dell",
         "3",
         "Full HD",
         "1",
         "1",
         "7",
         "15.598425196850393",
         "2.7",
         "8",
         "256",
         "4.851000000000001",
         "946"
        ],
        [
         "3",
         "Dell",
         "4",
         "IPS Panel",
         "2",
         "1",
         "5",
         "13.299212598425196",
         "1.6",
         "8",
         "128",
         "2.6901",
         "1244"
        ],
        [
         "4",
         "HP",
         "4",
         "Full HD",
         "2",
         "1",
         "7",
         "15.598425196850393",
         "1.8",
         "8",
         "256",
         "4.21155",
         "837"
        ]
       ],
       "shape": {
        "columns": 12,
        "rows": 5
       }
      },
      "text/html": [
       "<div>\n",
       "<style scoped>\n",
       "    .dataframe tbody tr th:only-of-type {\n",
       "        vertical-align: middle;\n",
       "    }\n",
       "\n",
       "    .dataframe tbody tr th {\n",
       "        vertical-align: top;\n",
       "    }\n",
       "\n",
       "    .dataframe thead th {\n",
       "        text-align: right;\n",
       "    }\n",
       "</style>\n",
       "<table border=\"1\" class=\"dataframe\">\n",
       "  <thead>\n",
       "    <tr style=\"text-align: right;\">\n",
       "      <th></th>\n",
       "      <th>Manufacturer</th>\n",
       "      <th>Category</th>\n",
       "      <th>Screen</th>\n",
       "      <th>GPU</th>\n",
       "      <th>OS</th>\n",
       "      <th>CPU_core</th>\n",
       "      <th>Screen_Size_inch</th>\n",
       "      <th>CPU_frequency</th>\n",
       "      <th>RAM_GB</th>\n",
       "      <th>Storage_GB_SSD</th>\n",
       "      <th>Weight_pounds</th>\n",
       "      <th>Price</th>\n",
       "    </tr>\n",
       "  </thead>\n",
       "  <tbody>\n",
       "    <tr>\n",
       "      <th>0</th>\n",
       "      <td>Acer</td>\n",
       "      <td>4</td>\n",
       "      <td>IPS Panel</td>\n",
       "      <td>2</td>\n",
       "      <td>1</td>\n",
       "      <td>5</td>\n",
       "      <td>14.000000</td>\n",
       "      <td>1.6</td>\n",
       "      <td>8</td>\n",
       "      <td>256</td>\n",
       "      <td>3.52800</td>\n",
       "      <td>978</td>\n",
       "    </tr>\n",
       "    <tr>\n",
       "      <th>1</th>\n",
       "      <td>Dell</td>\n",
       "      <td>3</td>\n",
       "      <td>Full HD</td>\n",
       "      <td>1</td>\n",
       "      <td>1</td>\n",
       "      <td>3</td>\n",
       "      <td>15.598425</td>\n",
       "      <td>2.0</td>\n",
       "      <td>4</td>\n",
       "      <td>256</td>\n",
       "      <td>4.85100</td>\n",
       "      <td>634</td>\n",
       "    </tr>\n",
       "    <tr>\n",
       "      <th>2</th>\n",
       "      <td>Dell</td>\n",
       "      <td>3</td>\n",
       "      <td>Full HD</td>\n",
       "      <td>1</td>\n",
       "      <td>1</td>\n",
       "      <td>7</td>\n",
       "      <td>15.598425</td>\n",
       "      <td>2.7</td>\n",
       "      <td>8</td>\n",
       "      <td>256</td>\n",
       "      <td>4.85100</td>\n",
       "      <td>946</td>\n",
       "    </tr>\n",
       "    <tr>\n",
       "      <th>3</th>\n",
       "      <td>Dell</td>\n",
       "      <td>4</td>\n",
       "      <td>IPS Panel</td>\n",
       "      <td>2</td>\n",
       "      <td>1</td>\n",
       "      <td>5</td>\n",
       "      <td>13.299213</td>\n",
       "      <td>1.6</td>\n",
       "      <td>8</td>\n",
       "      <td>128</td>\n",
       "      <td>2.69010</td>\n",
       "      <td>1244</td>\n",
       "    </tr>\n",
       "    <tr>\n",
       "      <th>4</th>\n",
       "      <td>HP</td>\n",
       "      <td>4</td>\n",
       "      <td>Full HD</td>\n",
       "      <td>2</td>\n",
       "      <td>1</td>\n",
       "      <td>7</td>\n",
       "      <td>15.598425</td>\n",
       "      <td>1.8</td>\n",
       "      <td>8</td>\n",
       "      <td>256</td>\n",
       "      <td>4.21155</td>\n",
       "      <td>837</td>\n",
       "    </tr>\n",
       "  </tbody>\n",
       "</table>\n",
       "</div>"
      ],
      "text/plain": [
       "  Manufacturer  Category     Screen  GPU  OS  CPU_core  Screen_Size_inch  \\\n",
       "0         Acer         4  IPS Panel    2   1         5         14.000000   \n",
       "1         Dell         3    Full HD    1   1         3         15.598425   \n",
       "2         Dell         3    Full HD    1   1         7         15.598425   \n",
       "3         Dell         4  IPS Panel    2   1         5         13.299213   \n",
       "4           HP         4    Full HD    2   1         7         15.598425   \n",
       "\n",
       "   CPU_frequency  RAM_GB  Storage_GB_SSD  Weight_pounds  Price  \n",
       "0            1.6       8             256        3.52800    978  \n",
       "1            2.0       4             256        4.85100    634  \n",
       "2            2.7       8             256        4.85100    946  \n",
       "3            1.6       8             128        2.69010   1244  \n",
       "4            1.8       8             256        4.21155    837  "
      ]
     },
     "execution_count": 41,
     "metadata": {},
     "output_type": "execute_result"
    }
   ],
   "source": [
    "df=df.rename(columns={\"Screen_Size_cm\":\"Screen_Size_inch\", \"Weight_kg\":\"Weight_pounds\"})\n",
    "df.head()"
   ]
  },
  {
   "cell_type": "code",
   "execution_count": 42,
   "metadata": {},
   "outputs": [],
   "source": [
    "caixas=[\"Low\",\"Medium\",\"High\"]\n",
    "bin=np.linspace(df[\"Price\"].min(),df[\"Price\"].max(),4)"
   ]
  },
  {
   "cell_type": "code",
   "execution_count": 43,
   "metadata": {},
   "outputs": [],
   "source": [
    "df[\"Price-binned\"]=pd.cut(df[\"Price\"],bin,labels=caixas,include_lowest=True)"
   ]
  },
  {
   "cell_type": "code",
   "execution_count": 44,
   "metadata": {},
   "outputs": [
    {
     "data": {
      "text/plain": [
       "Text(0.5, 1.0, 'Preço')"
      ]
     },
     "execution_count": 44,
     "metadata": {},
     "output_type": "execute_result"
    },
    {
     "data": {
      "image/png": "[encoded data removed]",
      "text/plain": [
       "<Figure size 640x480 with 1 Axes>"
      ]
     },
     "metadata": {},
     "output_type": "display_data"
    }
   ],
   "source": [
    "plt.hist(df[\"Price-binned\"])\n",
    "\n",
    "plt.xlabel(\"Caixa\")\n",
    "plt.ylabel(\"Quantidade\")\n",
    "plt.title(\"Preço\")"
   ]
  },
  {
   "cell_type": "code",
   "execution_count": 45,
   "metadata": {},
   "outputs": [
    {
     "data": {
      "application/vnd.microsoft.datawrangler.viewer.v0+json": {
       "columns": [
        {
         "name": "index",
         "rawType": "int64",
         "type": "integer"
        },
        {
         "name": "Full HD",
         "rawType": "int64",
         "type": "integer"
        },
        {
         "name": "IPS Panel",
         "rawType": "int64",
         "type": "integer"
        }
       ],
       "conversionMethod": "pd.DataFrame",
       "ref": "eb2fd1fc-1e5a-47a6-b62b-a0a9c63b04d4",
       "rows": [
        [
         "0",
         "0",
         "1"
        ],
        [
         "1",
         "1",
         "0"
        ],
        [
         "2",
         "1",
         "0"
        ],
        [
         "3",
         "0",
         "1"
        ],
        [
         "4",
         "1",
         "0"
        ],
        [
         "5",
         "1",
         "0"
        ],
        [
         "6",
         "1",
         "0"
        ],
        [
         "7",
         "0",
         "1"
        ],
        [
         "8",
         "1",
         "0"
        ],
        [
         "9",
         "0",
         "1"
        ],
        [
         "10",
         "1",
         "0"
        ],
        [
         "11",
         "1",
         "0"
        ],
        [
         "12",
         "1",
         "0"
        ],
        [
         "13",
         "1",
         "0"
        ],
        [
         "14",
         "1",
         "0"
        ],
        [
         "15",
         "1",
         "0"
        ],
        [
         "16",
         "0",
         "1"
        ],
        [
         "17",
         "1",
         "0"
        ],
        [
         "18",
         "0",
         "1"
        ],
        [
         "19",
         "1",
         "0"
        ],
        [
         "20",
         "0",
         "1"
        ],
        [
         "21",
         "1",
         "0"
        ],
        [
         "22",
         "0",
         "1"
        ],
        [
         "23",
         "1",
         "0"
        ],
        [
         "24",
         "1",
         "0"
        ],
        [
         "25",
         "1",
         "0"
        ],
        [
         "26",
         "1",
         "0"
        ],
        [
         "27",
         "1",
         "0"
        ],
        [
         "28",
         "0",
         "1"
        ],
        [
         "29",
         "0",
         "1"
        ],
        [
         "30",
         "0",
         "1"
        ],
        [
         "31",
         "0",
         "1"
        ],
        [
         "32",
         "0",
         "1"
        ],
        [
         "33",
         "1",
         "0"
        ],
        [
         "34",
         "1",
         "0"
        ],
        [
         "35",
         "0",
         "1"
        ],
        [
         "36",
         "1",
         "0"
        ],
        [
         "37",
         "1",
         "0"
        ],
        [
         "38",
         "0",
         "1"
        ],
        [
         "39",
         "0",
         "1"
        ],
        [
         "40",
         "1",
         "0"
        ],
        [
         "41",
         "1",
         "0"
        ],
        [
         "42",
         "1",
         "0"
        ],
        [
         "43",
         "0",
         "1"
        ],
        [
         "44",
         "1",
         "0"
        ],
        [
         "45",
         "0",
         "1"
        ],
        [
         "46",
         "0",
         "1"
        ],
        [
         "47",
         "0",
         "1"
        ],
        [
         "48",
         "1",
         "0"
        ],
        [
         "49",
         "1",
         "0"
        ]
       ],
       "shape": {
        "columns": 2,
        "rows": 238
       }
      },
      "text/html": [
       "<div>\n",
       "<style scoped>\n",
       "    .dataframe tbody tr th:only-of-type {\n",
       "        vertical-align: middle;\n",
       "    }\n",
       "\n",
       "    .dataframe tbody tr th {\n",
       "        vertical-align: top;\n",
       "    }\n",
       "\n",
       "    .dataframe thead th {\n",
       "        text-align: right;\n",
       "    }\n",
       "</style>\n",
       "<table border=\"1\" class=\"dataframe\">\n",
       "  <thead>\n",
       "    <tr style=\"text-align: right;\">\n",
       "      <th></th>\n",
       "      <th>Full HD</th>\n",
       "      <th>IPS Panel</th>\n",
       "    </tr>\n",
       "  </thead>\n",
       "  <tbody>\n",
       "    <tr>\n",
       "      <th>0</th>\n",
       "      <td>0</td>\n",
       "      <td>1</td>\n",
       "    </tr>\n",
       "    <tr>\n",
       "      <th>1</th>\n",
       "      <td>1</td>\n",
       "      <td>0</td>\n",
       "    </tr>\n",
       "    <tr>\n",
       "      <th>2</th>\n",
       "      <td>1</td>\n",
       "      <td>0</td>\n",
       "    </tr>\n",
       "    <tr>\n",
       "      <th>3</th>\n",
       "      <td>0</td>\n",
       "      <td>1</td>\n",
       "    </tr>\n",
       "    <tr>\n",
       "      <th>4</th>\n",
       "      <td>1</td>\n",
       "      <td>0</td>\n",
       "    </tr>\n",
       "    <tr>\n",
       "      <th>...</th>\n",
       "      <td>...</td>\n",
       "      <td>...</td>\n",
       "    </tr>\n",
       "    <tr>\n",
       "      <th>233</th>\n",
       "      <td>0</td>\n",
       "      <td>1</td>\n",
       "    </tr>\n",
       "    <tr>\n",
       "      <th>234</th>\n",
       "      <td>1</td>\n",
       "      <td>0</td>\n",
       "    </tr>\n",
       "    <tr>\n",
       "      <th>235</th>\n",
       "      <td>0</td>\n",
       "      <td>1</td>\n",
       "    </tr>\n",
       "    <tr>\n",
       "      <th>236</th>\n",
       "      <td>1</td>\n",
       "      <td>0</td>\n",
       "    </tr>\n",
       "    <tr>\n",
       "      <th>237</th>\n",
       "      <td>1</td>\n",
       "      <td>0</td>\n",
       "    </tr>\n",
       "  </tbody>\n",
       "</table>\n",
       "<p>238 rows × 2 columns</p>\n",
       "</div>"
      ],
      "text/plain": [
       "     Full HD  IPS Panel\n",
       "0          0          1\n",
       "1          1          0\n",
       "2          1          0\n",
       "3          0          1\n",
       "4          1          0\n",
       "..       ...        ...\n",
       "233        0          1\n",
       "234        1          0\n",
       "235        0          1\n",
       "236        1          0\n",
       "237        1          0\n",
       "\n",
       "[238 rows x 2 columns]"
      ]
     },
     "execution_count": 45,
     "metadata": {},
     "output_type": "execute_result"
    }
   ],
   "source": [
    "df2=pd.get_dummies(df[\"Screen\"]).astype(int)\n",
    "df2"
   ]
  },
  {
   "cell_type": "code",
   "execution_count": 46,
   "metadata": {},
   "outputs": [],
   "source": [
    "df2=df2.rename(columns={\"Full HD\": \"Screen-Full_HD\",\"IPS Panel\":\"Screen-IPS_panel\"})"
   ]
  },
  {
   "cell_type": "code",
   "execution_count": 47,
   "metadata": {},
   "outputs": [],
   "source": [
    "df=pd.concat([df,df2],axis=1)"
   ]
  },
  {
   "cell_type": "code",
   "execution_count": 48,
   "metadata": {},
   "outputs": [
    {
     "data": {
      "application/vnd.microsoft.datawrangler.viewer.v0+json": {
       "columns": [
        {
         "name": "index",
         "rawType": "int64",
         "type": "integer"
        },
        {
         "name": "Manufacturer",
         "rawType": "object",
         "type": "string"
        },
        {
         "name": "Category",
         "rawType": "int64",
         "type": "integer"
        },
        {
         "name": "Screen",
         "rawType": "object",
         "type": "string"
        },
        {
         "name": "GPU",
         "rawType": "int64",
         "type": "integer"
        },
        {
         "name": "OS",
         "rawType": "int64",
         "type": "integer"
        },
        {
         "name": "CPU_core",
         "rawType": "int64",
         "type": "integer"
        },
        {
         "name": "Screen_Size_inch",
         "rawType": "float64",
         "type": "float"
        },
        {
         "name": "CPU_frequency",
         "rawType": "float64",
         "type": "float"
        },
        {
         "name": "RAM_GB",
         "rawType": "int64",
         "type": "integer"
        },
        {
         "name": "Storage_GB_SSD",
         "rawType": "int64",
         "type": "integer"
        },
        {
         "name": "Weight_pounds",
         "rawType": "float64",
         "type": "float"
        },
        {
         "name": "Price",
         "rawType": "int64",
         "type": "integer"
        },
        {
         "name": "Price-binned",
         "rawType": "category",
         "type": "unknown"
        },
        {
         "name": "Screen-Full_HD",
         "rawType": "int64",
         "type": "integer"
        },
        {
         "name": "Screen-IPS_panel",
         "rawType": "int64",
         "type": "integer"
        }
       ],
       "conversionMethod": "pd.DataFrame",
       "ref": "6ba09e1f-80f6-4846-bb76-2301b0482c4a",
       "rows": [
        [
         "0",
         "Acer",
         "4",
         "IPS Panel",
         "2",
         "1",
         "5",
         "14.0",
         "1.6",
         "8",
         "256",
         "3.5280000000000005",
         "978",
         "Low",
         "0",
         "1"
        ],
        [
         "1",
         "Dell",
         "3",
         "Full HD",
         "1",
         "1",
         "3",
         "15.598425196850393",
         "2.0",
         "4",
         "256",
         "4.851000000000001",
         "634",
         "Low",
         "1",
         "0"
        ],
        [
         "2",
         "Dell",
         "3",
         "Full HD",
         "1",
         "1",
         "7",
         "15.598425196850393",
         "2.7",
         "8",
         "256",
         "4.851000000000001",
         "946",
         "Low",
         "1",
         "0"
        ],
        [
         "3",
         "Dell",
         "4",
         "IPS Panel",
         "2",
         "1",
         "5",
         "13.299212598425196",
         "1.6",
         "8",
         "128",
         "2.6901",
         "1244",
         "Low",
         "0",
         "1"
        ],
        [
         "4",
         "HP",
         "4",
         "Full HD",
         "2",
         "1",
         "7",
         "15.598425196850393",
         "1.8",
         "8",
         "256",
         "4.21155",
         "837",
         "Low",
         "1",
         "0"
        ]
       ],
       "shape": {
        "columns": 15,
        "rows": 5
       }
      },
      "text/html": [
       "<div>\n",
       "<style scoped>\n",
       "    .dataframe tbody tr th:only-of-type {\n",
       "        vertical-align: middle;\n",
       "    }\n",
       "\n",
       "    .dataframe tbody tr th {\n",
       "        vertical-align: top;\n",
       "    }\n",
       "\n",
       "    .dataframe thead th {\n",
       "        text-align: right;\n",
       "    }\n",
       "</style>\n",
       "<table border=\"1\" class=\"dataframe\">\n",
       "  <thead>\n",
       "    <tr style=\"text-align: right;\">\n",
       "      <th></th>\n",
       "      <th>Manufacturer</th>\n",
       "      <th>Category</th>\n",
       "      <th>Screen</th>\n",
       "      <th>GPU</th>\n",
       "      <th>OS</th>\n",
       "      <th>CPU_core</th>\n",
       "      <th>Screen_Size_inch</th>\n",
       "      <th>CPU_frequency</th>\n",
       "      <th>RAM_GB</th>\n",
       "      <th>Storage_GB_SSD</th>\n",
       "      <th>Weight_pounds</th>\n",
       "      <th>Price</th>\n",
       "      <th>Price-binned</th>\n",
       "      <th>Screen-Full_HD</th>\n",
       "      <th>Screen-IPS_panel</th>\n",
       "    </tr>\n",
       "  </thead>\n",
       "  <tbody>\n",
       "    <tr>\n",
       "      <th>0</th>\n",
       "      <td>Acer</td>\n",
       "      <td>4</td>\n",
       "      <td>IPS Panel</td>\n",
       "      <td>2</td>\n",
       "      <td>1</td>\n",
       "      <td>5</td>\n",
       "      <td>14.000000</td>\n",
       "      <td>1.6</td>\n",
       "      <td>8</td>\n",
       "      <td>256</td>\n",
       "      <td>3.52800</td>\n",
       "      <td>978</td>\n",
       "      <td>Low</td>\n",
       "      <td>0</td>\n",
       "      <td>1</td>\n",
       "    </tr>\n",
       "    <tr>\n",
       "      <th>1</th>\n",
       "      <td>Dell</td>\n",
       "      <td>3</td>\n",
       "      <td>Full HD</td>\n",
       "      <td>1</td>\n",
       "      <td>1</td>\n",
       "      <td>3</td>\n",
       "      <td>15.598425</td>\n",
       "      <td>2.0</td>\n",
       "      <td>4</td>\n",
       "      <td>256</td>\n",
       "      <td>4.85100</td>\n",
       "      <td>634</td>\n",
       "      <td>Low</td>\n",
       "      <td>1</td>\n",
       "      <td>0</td>\n",
       "    </tr>\n",
       "    <tr>\n",
       "      <th>2</th>\n",
       "      <td>Dell</td>\n",
       "      <td>3</td>\n",
       "      <td>Full HD</td>\n",
       "      <td>1</td>\n",
       "      <td>1</td>\n",
       "      <td>7</td>\n",
       "      <td>15.598425</td>\n",
       "      <td>2.7</td>\n",
       "      <td>8</td>\n",
       "      <td>256</td>\n",
       "      <td>4.85100</td>\n",
       "      <td>946</td>\n",
       "      <td>Low</td>\n",
       "      <td>1</td>\n",
       "      <td>0</td>\n",
       "    </tr>\n",
       "    <tr>\n",
       "      <th>3</th>\n",
       "      <td>Dell</td>\n",
       "      <td>4</td>\n",
       "      <td>IPS Panel</td>\n",
       "      <td>2</td>\n",
       "      <td>1</td>\n",
       "      <td>5</td>\n",
       "      <td>13.299213</td>\n",
       "      <td>1.6</td>\n",
       "      <td>8</td>\n",
       "      <td>128</td>\n",
       "      <td>2.69010</td>\n",
       "      <td>1244</td>\n",
       "      <td>Low</td>\n",
       "      <td>0</td>\n",
       "      <td>1</td>\n",
       "    </tr>\n",
       "    <tr>\n",
       "      <th>4</th>\n",
       "      <td>HP</td>\n",
       "      <td>4</td>\n",
       "      <td>Full HD</td>\n",
       "      <td>2</td>\n",
       "      <td>1</td>\n",
       "      <td>7</td>\n",
       "      <td>15.598425</td>\n",
       "      <td>1.8</td>\n",
       "      <td>8</td>\n",
       "      <td>256</td>\n",
       "      <td>4.21155</td>\n",
       "      <td>837</td>\n",
       "      <td>Low</td>\n",
       "      <td>1</td>\n",
       "      <td>0</td>\n",
       "    </tr>\n",
       "  </tbody>\n",
       "</table>\n",
       "</div>"
      ],
      "text/plain": [
       "  Manufacturer  Category     Screen  GPU  OS  CPU_core  Screen_Size_inch  \\\n",
       "0         Acer         4  IPS Panel    2   1         5         14.000000   \n",
       "1         Dell         3    Full HD    1   1         3         15.598425   \n",
       "2         Dell         3    Full HD    1   1         7         15.598425   \n",
       "3         Dell         4  IPS Panel    2   1         5         13.299213   \n",
       "4           HP         4    Full HD    2   1         7         15.598425   \n",
       "\n",
       "   CPU_frequency  RAM_GB  Storage_GB_SSD  Weight_pounds  Price Price-binned  \\\n",
       "0            1.6       8             256        3.52800    978          Low   \n",
       "1            2.0       4             256        4.85100    634          Low   \n",
       "2            2.7       8             256        4.85100    946          Low   \n",
       "3            1.6       8             128        2.69010   1244          Low   \n",
       "4            1.8       8             256        4.21155    837          Low   \n",
       "\n",
       "   Screen-Full_HD  Screen-IPS_panel  \n",
       "0               0                 1  \n",
       "1               1                 0  \n",
       "2               1                 0  \n",
       "3               0                 1  \n",
       "4               1                 0  "
      ]
     },
     "execution_count": 48,
     "metadata": {},
     "output_type": "execute_result"
    }
   ],
   "source": [
    "df.head()"
   ]
  },
  {
   "cell_type": "code",
   "execution_count": 49,
   "metadata": {},
   "outputs": [],
   "source": [
    "df=df.drop(columns={\"Screen\"})"
   ]
  },
  {
   "cell_type": "code",
   "execution_count": 50,
   "metadata": {},
   "outputs": [],
   "source": [
    "df.to_csv(\"Phone_Dataset_clean.csv\")"
   ]
  }
 ],
 "metadata": {
  "kernelspec": {
   "display_name": "Python 3",
   "language": "python",
   "name": "python3"
  },
  "language_info": {
   "codemirror_mode": {
    "name": "ipython",
    "version": 3
   },
   "file_extension": ".py",
   "mimetype": "text/x-python",
   "name": "python",
   "nbconvert_exporter": "python",
   "pygments_lexer": "ipython3",
   "version": "3.10.0"
  }
 },
 "nbformat": 4,
 "nbformat_minor": 2
}
