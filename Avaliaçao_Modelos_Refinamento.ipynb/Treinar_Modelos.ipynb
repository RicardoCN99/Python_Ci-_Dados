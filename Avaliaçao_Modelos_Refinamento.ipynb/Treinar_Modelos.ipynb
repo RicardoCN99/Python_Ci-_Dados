{
 "cells": [
  {
   "cell_type": "code",
   "execution_count": null,
   "metadata": {},
   "outputs": [],
   "source": [
    "import pandas as pd  \n",
    "import numpy as np \n",
    "import matplotlib.pyplot as plt\n",
    "from sklearn.linear_model import LinearRegression"
   ]
  },
  {
   "cell_type": "code",
   "execution_count": null,
   "metadata": {},
   "outputs": [],
   "source": [
    "data=pd.read_csv(\"https://cf-courses-data.s3.us.cloud-object-storage.appdomain.cloud/IBMDeveloperSkillsNetwork-DA0101EN-SkillsNetwork/labs/Data%20files/automobileEDA.csv\")\n",
    "\n",
    "df=pd.DataFrame(data)\n",
    "df.head()"
   ]
  },
  {
   "cell_type": "code",
   "execution_count": null,
   "metadata": {},
   "outputs": [],
   "source": [
    "# Deve-se usar 70% dos dados para treinamento e 30% para teste\n",
    "\n",
    "from sklearn.model_selection import train_test_split # divide dados\n",
    "\n",
    "x=df[[\"horsepower\"]]\n",
    "y=df[[\"price\"]]\n",
    "\n",
    "x_train,x_test,y_train,y_test=train_test_split(x,y,test_size=0.3,random_state=0)"
   ]
  },
  {
   "cell_type": "code",
   "execution_count": null,
   "metadata": {},
   "outputs": [],
   "source": [
    "len(x_train)"
   ]
  },
  {
   "cell_type": "code",
   "execution_count": null,
   "metadata": {},
   "outputs": [],
   "source": [
    "len(x_test)"
   ]
  },
  {
   "cell_type": "code",
   "execution_count": null,
   "metadata": {},
   "outputs": [],
   "source": [
    "lm_train=LinearRegression()\n",
    "lm_train.fit(x_train,y_train)\n",
    "yhat_train=lm_train.predict(x_train)"
   ]
  },
  {
   "cell_type": "code",
   "execution_count": null,
   "metadata": {},
   "outputs": [],
   "source": [
    "lm_test=LinearRegression()\n",
    "lm_test.fit(x_test,y_test)\n",
    "yhat_test=lm_test.predict(x_test)"
   ]
  },
  {
   "cell_type": "code",
   "execution_count": null,
   "metadata": {},
   "outputs": [],
   "source": [
    "import seaborn as sns\n",
    "\n",
    "sns.kdeplot(yhat_train,label=\"predicted values\",palette=['black'])\n",
    "sns.kdeplot(y_train,label=\"real values\",color=\"red\",palette=['red'])\n",
    "plt.legend()"
   ]
  },
  {
   "cell_type": "code",
   "execution_count": null,
   "metadata": {},
   "outputs": [],
   "source": [
    "import seaborn as sns\n",
    "\n",
    "sns.kdeplot(yhat_test,label=\"predicted values\",palette=['black'])\n",
    "sns.kdeplot(y_test,label=\"real values\",color=\"red\",palette=['red'])\n",
    "plt.legend()"
   ]
  },
  {
   "cell_type": "code",
   "execution_count": null,
   "metadata": {},
   "outputs": [],
   "source": [
    "# Validação Cruzada cria n partições com dados e retorna previsões resultantes dos testes das n partições, para evitar o erro de generalização, ou seja, usa todos os dados como teste e como treinamento\n",
    "\n",
    "from sklearn.model_selection import cross_val_score\n",
    "lm=LinearRegression()\n",
    "\n",
    "scores=cross_val_score(lm,x,y,cv=3)"
   ]
  },
  {
   "cell_type": "code",
   "execution_count": null,
   "metadata": {},
   "outputs": [],
   "source": [
    "scores # 3 R_squares, 1 de cada partição"
   ]
  },
  {
   "cell_type": "code",
   "execution_count": null,
   "metadata": {},
   "outputs": [],
   "source": [
    "from sklearn.model_selection import cross_val_predict\n",
    "\n",
    "prediction=cross_val_predict(lm,x,y,cv=3)"
   ]
  },
  {
   "cell_type": "code",
   "execution_count": null,
   "metadata": {},
   "outputs": [],
   "source": [
    "prediction # guarda num array previsões resultantes dos testes das 3 partições"
   ]
  },
  {
   "cell_type": "code",
   "execution_count": null,
   "metadata": {},
   "outputs": [],
   "source": [
    "# Overfitting, Underfitting e escolha de modelos\n",
    "\n",
    "# verificar qual o grau ideal para ajustar modelo\n",
    "\n",
    "from sklearn.preprocessing import PolynomialFeatures\n",
    "\n",
    "\n",
    "R_sqr=[]\n",
    "order=[1,2,3,4,5,6,7,8,9,10]\n",
    "lm10=LinearRegression()\n",
    "for i in order:\n",
    "    pr=PolynomialFeatures(degree=i)\n",
    "    x_train_pr=pr.fit_transform(x_train)\n",
    "    x_test_pr=pr.fit_transform(x_test)\n",
    "    lm10.fit(x_train_pr,y_train)\n",
    "    R_sqr.append(lm10.score(x_test_pr,y_test))\n",
    "    "
   ]
  },
  {
   "cell_type": "code",
   "execution_count": null,
   "metadata": {},
   "outputs": [],
   "source": [
    "R_sqr # polinomio de grau 5 é o melhor fit para este modelo"
   ]
  },
  {
   "cell_type": "code",
   "execution_count": null,
   "metadata": {},
   "outputs": [],
   "source": [
    "plt.plot([1,2,3,4,5,6,7,8,9,10],R_sqr)\n",
    "plt.ylabel(\"R^2\")\n",
    "plt.xlabel(\"degree\")\n",
    "plt.title(\"R^2 a cada grau\")"
   ]
  },
  {
   "cell_type": "code",
   "execution_count": null,
   "metadata": {},
   "outputs": [],
   "source": []
  }
 ],
 "metadata": {
  "kernelspec": {
   "display_name": "Python 3",
   "language": "python",
   "name": "python3"
  },
  "language_info": {
   "codemirror_mode": {
    "name": "ipython",
    "version": 3
   },
   "file_extension": ".py",
   "mimetype": "text/x-python",
   "name": "python",
   "nbconvert_exporter": "python",
   "pygments_lexer": "ipython3",
   "version": "3.10.0"
  }
 },
 "nbformat": 4,
 "nbformat_minor": 2
}
