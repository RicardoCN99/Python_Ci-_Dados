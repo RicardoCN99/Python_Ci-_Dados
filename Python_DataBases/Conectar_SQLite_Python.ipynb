{
 "cells": [
  {
   "cell_type": "code",
   "execution_count": 1,
   "metadata": {},
   "outputs": [],
   "source": [
    "import pandas as pd\n",
    "import sqlite3"
   ]
  },
  {
   "cell_type": "code",
   "execution_count": null,
   "metadata": {},
   "outputs": [],
   "source": [
    "# Conectar a SQLite\n",
    "\n",
    "con=sqlite3.connect(\"PESCA.db\")"
   ]
  },
  {
   "cell_type": "code",
   "execution_count": null,
   "metadata": {},
   "outputs": [],
   "source": [
    "# Criar objeto da BD para fazer operações\n",
    "\n",
    "cursor_obj=con.cursor()"
   ]
  },
  {
   "cell_type": "code",
   "execution_count": null,
   "metadata": {},
   "outputs": [],
   "source": [
    "# cursor_obj.execute(\"Create table peixes (id int not null, quant_peixes int, tipo_peixe varchar(30),preço_kg decimal)\")"
   ]
  },
  {
   "cell_type": "code",
   "execution_count": null,
   "metadata": {},
   "outputs": [],
   "source": [
    "# cursor_obj.execute(\"Insert into peixes VALUES(001,6,'Carpa',12.5),(002,7,'Carpa',12.5),(003,3,'Caranguejo',15.20),(003,2,'Polvo',25)\")"
   ]
  },
  {
   "cell_type": "code",
   "execution_count": null,
   "metadata": {},
   "outputs": [],
   "source": [
    "# fetchall / fetchmany / fetchone, operação select fica guardada no objeto \"cursor_obj\", para obter output precisa fazer \"fetch\"\n",
    "\n",
    "cursor_obj.execute(\"SELECT * FROM PEIXES\")\n",
    "for linha_tabela in cursor_obj.fetchall(): \n",
    "    print(linha_tabela)\n"
   ]
  },
  {
   "cell_type": "code",
   "execution_count": null,
   "metadata": {},
   "outputs": [],
   "source": [
    "# cursor_obj.execute(\"update peixes set preço_kg=35 where tipo_peixe='Caranguejo'\")\n",
    "# cursor_obj.execute(\"ALTER TABLE peixes rename column quant_peixes to kg_peixe;\")\n",
    "\n",
    "\n",
    "cursor_obj.execute(\"select tipo_peixe, preço_kg from peixes\")\n",
    "output=cursor_obj.fetchall()\n",
    "for linha in output:\n",
    "    print(linha)"
   ]
  },
  {
   "cell_type": "code",
   "execution_count": null,
   "metadata": {},
   "outputs": [],
   "source": [
    "# Podemos retornar dados em formato DataFrame diretamente\n",
    "\n",
    "df= pd.read_sql_query(\"select * from peixes\",con)\n",
    "df"
   ]
  },
  {
   "cell_type": "code",
   "execution_count": null,
   "metadata": {},
   "outputs": [],
   "source": [
    "df[\"Lucro\"]=df[\"kg_peixe\"]*df[\"preço_kg\"]\n",
    "df"
   ]
  },
  {
   "cell_type": "code",
   "execution_count": null,
   "metadata": {},
   "outputs": [],
   "source": [
    "# Posso retornar apenas alguma informação para o DataFrame\n",
    "\n",
    "df2=pd.read_sql_query(\"select * from peixes where tipo_peixe='Carpa'\", con) \n",
    "df2"
   ]
  },
  {
   "cell_type": "code",
   "execution_count": null,
   "metadata": {},
   "outputs": [],
   "source": [
    "df.shape"
   ]
  },
  {
   "cell_type": "code",
   "execution_count": null,
   "metadata": {},
   "outputs": [],
   "source": [
    "con.commit() # Salvar alteraçoes na BD\n",
    "con.close() # Fecha a ligação com a BD"
   ]
  }
 ],
 "metadata": {
  "kernelspec": {
   "display_name": "Python 3",
   "language": "python",
   "name": "python3"
  },
  "language_info": {
   "codemirror_mode": {
    "name": "ipython",
    "version": 3
   },
   "file_extension": ".py",
   "mimetype": "text/x-python",
   "name": "python",
   "nbconvert_exporter": "python",
   "pygments_lexer": "ipython3",
   "version": "3.12.8"
  }
 },
 "nbformat": 4,
 "nbformat_minor": 2
}
