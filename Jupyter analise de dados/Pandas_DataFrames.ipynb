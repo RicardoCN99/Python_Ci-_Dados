{
 "cells": [
  {
   "cell_type": "code",
   "execution_count": null,
   "metadata": {},
   "outputs": [],
   "source": [
    "import pandas as pd\n",
    "\n",
    "df=pd.read_csv(\"file1\") #permite importar excel,csv,etc...\n",
    "\n",
    "df.head() #Apresenta primeiras 5 linhas do dataFrame\n"
   ]
  },
  {
   "cell_type": "code",
   "execution_count": null,
   "metadata": {},
   "outputs": [],
   "source": [
    "ultima_linha=df.iloc[-1,:] # passa a ultima linha\n",
    "ultima_linha"
   ]
  },
  {
   "cell_type": "code",
   "execution_count": null,
   "metadata": {},
   "outputs": [],
   "source": [
    "songs={\"Album\":[\"Thriller\",\"Back in Black\",\"The dark Side\",\"Bodyguard\",\"Bat\"],\"Release\":[1990,1980,1970,1980,2000],\"Length\":[\"12:07\",\"12:60\",\"14:07\",\"09:07\",\"4:35\",]}\n",
    "\n",
    "df=pd.DataFrame(songs) #Criar dataFrame a partir de dicionário \n",
    "df.head()"
   ]
  },
  {
   "cell_type": "code",
   "execution_count": null,
   "metadata": {},
   "outputs": [],
   "source": [
    "x=df[[\"Release\"]] #cria novo dataframe com coluna Release do anterior\n",
    "x.head()"
   ]
  },
  {
   "cell_type": "code",
   "execution_count": null,
   "metadata": {},
   "outputs": [],
   "source": [
    "x=df[[\"Album\",\"Length\"]] #cria novo dataframe com colunas do anterior\n",
    "x"
   ]
  },
  {
   "cell_type": "code",
   "execution_count": null,
   "metadata": {},
   "outputs": [],
   "source": [
    "df.iloc[0,2] #Devolve valor na posiçao 0,2 do dataframe"
   ]
  },
  {
   "cell_type": "code",
   "execution_count": null,
   "metadata": {},
   "outputs": [],
   "source": [
    "x.loc[3,\"Length\"] #Devolve valor na posiçao 3,Length do dataframe"
   ]
  },
  {
   "cell_type": "code",
   "execution_count": null,
   "metadata": {},
   "outputs": [],
   "source": [
    "df_New=df.copy() #como são listas dicionarios, se fizer df_New=df referencia o mesmo espaço da memoria, por isso faz-se .copy()\n",
    "df_New.index=[\"z\",\"x\",\"t\",\"v\",\"w\"] #Muda index das linhas do dataframe\n",
    "df_New.head()\n"
   ]
  },
  {
   "cell_type": "code",
   "execution_count": null,
   "metadata": {},
   "outputs": [],
   "source": [
    "linha =df_New.loc[\"z\"] #Preserva o header\n",
    "linha "
   ]
  },
  {
   "cell_type": "code",
   "execution_count": null,
   "metadata": {},
   "outputs": [],
   "source": [
    "df2=df.iloc[0:2,0:1] #cria dataframe com linhas 0a2 e colunas 0a1\n",
    "df2.head()"
   ]
  },
  {
   "cell_type": "code",
   "execution_count": null,
   "metadata": {},
   "outputs": [],
   "source": [
    "df2=df_New.loc[\"z\":\"t\",\"Album\":\"Release\"] #cria dataframe com linhas zat e colunas Album/Releas\n",
    "df2.head()"
   ]
  },
  {
   "cell_type": "code",
   "execution_count": null,
   "metadata": {},
   "outputs": [],
   "source": []
  }
 ],
 "metadata": {
  "kernelspec": {
   "display_name": "Python 3",
   "language": "python",
   "name": "python3"
  },
  "language_info": {
   "codemirror_mode": {
    "name": "ipython",
    "version": 3
   },
   "file_extension": ".py",
   "mimetype": "text/x-python",
   "name": "python",
   "nbconvert_exporter": "python",
   "pygments_lexer": "ipython3",
   "version": "3.10.0"
  }
 },
 "nbformat": 4,
 "nbformat_minor": 2
}
