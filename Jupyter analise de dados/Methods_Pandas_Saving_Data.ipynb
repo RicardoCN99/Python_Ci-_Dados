{
 "cells": [
  {
   "cell_type": "code",
   "execution_count": null,
   "metadata": {},
   "outputs": [],
   "source": [
    "import pandas as pd\n",
    "\n",
    "music_data = { \"albums\": [ \"Echoes of Eternity\", \"Timeless Horizons\", \"Urban Symphony\", \"Neon Dreams\",  \"Stellar Voyage\",\"Aurora Tales\"],\"release\": [ 2022, 2022, 2018, 2020, 2022, 2023 ], \"best_music\": [   \"Eternal Whisper\",   \"Waves of Time\",   \"City Lights\",   \"Electric Glow\",   \"Cosmic Drift\",   \"Northern Skies\" ]\n",
    "}\n",
    "\n",
    "df=pd.DataFrame(music_data)\n",
    "df"
   ]
  },
  {
   "cell_type": "code",
   "execution_count": null,
   "metadata": {},
   "outputs": [],
   "source": [
    "df[\"release\"].unique() # passa todos os valores unicos da coluna \"release\""
   ]
  },
  {
   "cell_type": "code",
   "execution_count": null,
   "metadata": {},
   "outputs": [],
   "source": [
    "type(df.iloc[2,1]) #retorna tipo da entrada"
   ]
  },
  {
   "cell_type": "code",
   "execution_count": null,
   "metadata": {},
   "outputs": [],
   "source": [
    "c=df[\"albums\"] #retorna em formato de serie\n",
    "c"
   ]
  },
  {
   "cell_type": "code",
   "execution_count": null,
   "metadata": {},
   "outputs": [],
   "source": [
    "df[\"release\"]>2018 # apresenta true e false"
   ]
  },
  {
   "cell_type": "code",
   "execution_count": null,
   "metadata": {},
   "outputs": [],
   "source": [
    "df1=df[df[\"release\"]>2020] # passa todas as linhas que satisfazem condição\n",
    "df1"
   ]
  },
  {
   "cell_type": "code",
   "execution_count": 7,
   "metadata": {},
   "outputs": [],
   "source": [
    "df1.to_csv(\"DataFrame_df1\") #guarda em csv (posso guardar noutros formatos)."
   ]
  }
 ],
 "metadata": {
  "kernelspec": {
   "display_name": "Python 3",
   "language": "python",
   "name": "python3"
  },
  "language_info": {
   "codemirror_mode": {
    "name": "ipython",
    "version": 3
   },
   "file_extension": ".py",
   "mimetype": "text/x-python",
   "name": "python",
   "nbconvert_exporter": "python",
   "pygments_lexer": "ipython3",
   "version": "3.10.0"
  }
 },
 "nbformat": 4,
 "nbformat_minor": 2
}
