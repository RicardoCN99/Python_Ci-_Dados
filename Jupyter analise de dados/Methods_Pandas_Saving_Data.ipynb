{
 "cells": [
  {
   "cell_type": "code",
   "execution_count": 1,
   "metadata": {},
   "outputs": [
    {
     "data": {
      "text/html": [
       "<div>\n",
       "<style scoped>\n",
       "    .dataframe tbody tr th:only-of-type {\n",
       "        vertical-align: middle;\n",
       "    }\n",
       "\n",
       "    .dataframe tbody tr th {\n",
       "        vertical-align: top;\n",
       "    }\n",
       "\n",
       "    .dataframe thead th {\n",
       "        text-align: right;\n",
       "    }\n",
       "</style>\n",
       "<table border=\"1\" class=\"dataframe\">\n",
       "  <thead>\n",
       "    <tr style=\"text-align: right;\">\n",
       "      <th></th>\n",
       "      <th>albums</th>\n",
       "      <th>release</th>\n",
       "      <th>best_music</th>\n",
       "    </tr>\n",
       "  </thead>\n",
       "  <tbody>\n",
       "    <tr>\n",
       "      <th>0</th>\n",
       "      <td>Echoes of Eternity</td>\n",
       "      <td>2022</td>\n",
       "      <td>Eternal Whisper</td>\n",
       "    </tr>\n",
       "    <tr>\n",
       "      <th>1</th>\n",
       "      <td>Timeless Horizons</td>\n",
       "      <td>2022</td>\n",
       "      <td>Waves of Time</td>\n",
       "    </tr>\n",
       "    <tr>\n",
       "      <th>2</th>\n",
       "      <td>Urban Symphony</td>\n",
       "      <td>2018</td>\n",
       "      <td>City Lights</td>\n",
       "    </tr>\n",
       "    <tr>\n",
       "      <th>3</th>\n",
       "      <td>Neon Dreams</td>\n",
       "      <td>2020</td>\n",
       "      <td>Electric Glow</td>\n",
       "    </tr>\n",
       "    <tr>\n",
       "      <th>4</th>\n",
       "      <td>Stellar Voyage</td>\n",
       "      <td>2022</td>\n",
       "      <td>Cosmic Drift</td>\n",
       "    </tr>\n",
       "    <tr>\n",
       "      <th>5</th>\n",
       "      <td>Aurora Tales</td>\n",
       "      <td>2023</td>\n",
       "      <td>Northern Skies</td>\n",
       "    </tr>\n",
       "  </tbody>\n",
       "</table>\n",
       "</div>"
      ],
      "text/plain": [
       "               albums  release       best_music\n",
       "0  Echoes of Eternity     2022  Eternal Whisper\n",
       "1   Timeless Horizons     2022    Waves of Time\n",
       "2      Urban Symphony     2018      City Lights\n",
       "3         Neon Dreams     2020    Electric Glow\n",
       "4      Stellar Voyage     2022     Cosmic Drift\n",
       "5        Aurora Tales     2023   Northern Skies"
      ]
     },
     "execution_count": 1,
     "metadata": {},
     "output_type": "execute_result"
    }
   ],
   "source": [
    "import pandas as pd\n",
    "\n",
    "music_data = { \"albums\": [ \"Echoes of Eternity\", \"Timeless Horizons\", \"Urban Symphony\", \"Neon Dreams\",  \"Stellar Voyage\",\"Aurora Tales\"],\"release\": [ 2022, 2022, 2018, 2020, 2022, 2023 ], \"best_music\": [   \"Eternal Whisper\",   \"Waves of Time\",   \"City Lights\",   \"Electric Glow\",   \"Cosmic Drift\",   \"Northern Skies\" ]\n",
    "}\n",
    "\n",
    "df=pd.DataFrame(music_data)\n",
    "df"
   ]
  },
  {
   "cell_type": "code",
   "execution_count": 2,
   "metadata": {},
   "outputs": [
    {
     "data": {
      "text/html": [
       "<div>\n",
       "<style scoped>\n",
       "    .dataframe tbody tr th:only-of-type {\n",
       "        vertical-align: middle;\n",
       "    }\n",
       "\n",
       "    .dataframe tbody tr th {\n",
       "        vertical-align: top;\n",
       "    }\n",
       "\n",
       "    .dataframe thead th {\n",
       "        text-align: right;\n",
       "    }\n",
       "</style>\n",
       "<table border=\"1\" class=\"dataframe\">\n",
       "  <thead>\n",
       "    <tr style=\"text-align: right;\">\n",
       "      <th></th>\n",
       "      <th>albums</th>\n",
       "      <th>release</th>\n",
       "      <th>best_music</th>\n",
       "    </tr>\n",
       "  </thead>\n",
       "  <tbody>\n",
       "    <tr>\n",
       "      <th>0</th>\n",
       "      <td>Echoes of Eternity</td>\n",
       "      <td>2022</td>\n",
       "      <td>Eternal Whisper</td>\n",
       "    </tr>\n",
       "    <tr>\n",
       "      <th>1</th>\n",
       "      <td>Timeless Horizons</td>\n",
       "      <td>2022</td>\n",
       "      <td>Waves of Time</td>\n",
       "    </tr>\n",
       "    <tr>\n",
       "      <th>2</th>\n",
       "      <td>Urban Symphony</td>\n",
       "      <td>2018</td>\n",
       "      <td>City Lights</td>\n",
       "    </tr>\n",
       "    <tr>\n",
       "      <th>3</th>\n",
       "      <td>Neon Dreams</td>\n",
       "      <td>2020</td>\n",
       "      <td>Electric Glow</td>\n",
       "    </tr>\n",
       "    <tr>\n",
       "      <th>4</th>\n",
       "      <td>Stellar Voyage</td>\n",
       "      <td>2022</td>\n",
       "      <td>Cosmic Drift</td>\n",
       "    </tr>\n",
       "    <tr>\n",
       "      <th>5</th>\n",
       "      <td>Aurora Tales</td>\n",
       "      <td>2023</td>\n",
       "      <td>Northern Skies</td>\n",
       "    </tr>\n",
       "  </tbody>\n",
       "</table>\n",
       "</div>"
      ],
      "text/plain": [
       "               albums  release       best_music\n",
       "0  Echoes of Eternity     2022  Eternal Whisper\n",
       "1   Timeless Horizons     2022    Waves of Time\n",
       "2      Urban Symphony     2018      City Lights\n",
       "3         Neon Dreams     2020    Electric Glow\n",
       "4      Stellar Voyage     2022     Cosmic Drift\n",
       "5        Aurora Tales     2023   Northern Skies"
      ]
     },
     "execution_count": 2,
     "metadata": {},
     "output_type": "execute_result"
    }
   ],
   "source": [
    "df[\"release\"].unique() # passa todos os valores unicos da coluna \"release\"\n",
    "df"
   ]
  },
  {
   "cell_type": "code",
   "execution_count": 3,
   "metadata": {},
   "outputs": [
    {
     "data": {
      "text/plain": [
       "numpy.int64"
      ]
     },
     "execution_count": 3,
     "metadata": {},
     "output_type": "execute_result"
    }
   ],
   "source": [
    "type(df.iloc[2,1]) #retorna tipo da entrada"
   ]
  },
  {
   "cell_type": "code",
   "execution_count": 4,
   "metadata": {},
   "outputs": [
    {
     "data": {
      "text/plain": [
       "0    Echoes of Eternity\n",
       "1     Timeless Horizons\n",
       "2        Urban Symphony\n",
       "3           Neon Dreams\n",
       "4        Stellar Voyage\n",
       "5          Aurora Tales\n",
       "Name: albums, dtype: object"
      ]
     },
     "execution_count": 4,
     "metadata": {},
     "output_type": "execute_result"
    }
   ],
   "source": [
    "c=df[\"albums\"] #retorna em formato de serie\n",
    "c"
   ]
  },
  {
   "cell_type": "code",
   "execution_count": 5,
   "metadata": {},
   "outputs": [
    {
     "data": {
      "text/plain": [
       "0     True\n",
       "1     True\n",
       "2    False\n",
       "3     True\n",
       "4     True\n",
       "5     True\n",
       "Name: release, dtype: bool"
      ]
     },
     "execution_count": 5,
     "metadata": {},
     "output_type": "execute_result"
    }
   ],
   "source": [
    "df[\"release\"]>2018 # apresenta true e false"
   ]
  },
  {
   "cell_type": "code",
   "execution_count": 6,
   "metadata": {},
   "outputs": [
    {
     "data": {
      "text/html": [
       "<div>\n",
       "<style scoped>\n",
       "    .dataframe tbody tr th:only-of-type {\n",
       "        vertical-align: middle;\n",
       "    }\n",
       "\n",
       "    .dataframe tbody tr th {\n",
       "        vertical-align: top;\n",
       "    }\n",
       "\n",
       "    .dataframe thead th {\n",
       "        text-align: right;\n",
       "    }\n",
       "</style>\n",
       "<table border=\"1\" class=\"dataframe\">\n",
       "  <thead>\n",
       "    <tr style=\"text-align: right;\">\n",
       "      <th></th>\n",
       "      <th>albums</th>\n",
       "      <th>release</th>\n",
       "      <th>best_music</th>\n",
       "    </tr>\n",
       "  </thead>\n",
       "  <tbody>\n",
       "    <tr>\n",
       "      <th>0</th>\n",
       "      <td>Echoes of Eternity</td>\n",
       "      <td>2022</td>\n",
       "      <td>Eternal Whisper</td>\n",
       "    </tr>\n",
       "    <tr>\n",
       "      <th>1</th>\n",
       "      <td>Timeless Horizons</td>\n",
       "      <td>2022</td>\n",
       "      <td>Waves of Time</td>\n",
       "    </tr>\n",
       "    <tr>\n",
       "      <th>4</th>\n",
       "      <td>Stellar Voyage</td>\n",
       "      <td>2022</td>\n",
       "      <td>Cosmic Drift</td>\n",
       "    </tr>\n",
       "    <tr>\n",
       "      <th>5</th>\n",
       "      <td>Aurora Tales</td>\n",
       "      <td>2023</td>\n",
       "      <td>Northern Skies</td>\n",
       "    </tr>\n",
       "  </tbody>\n",
       "</table>\n",
       "</div>"
      ],
      "text/plain": [
       "               albums  release       best_music\n",
       "0  Echoes of Eternity     2022  Eternal Whisper\n",
       "1   Timeless Horizons     2022    Waves of Time\n",
       "4      Stellar Voyage     2022     Cosmic Drift\n",
       "5        Aurora Tales     2023   Northern Skies"
      ]
     },
     "execution_count": 6,
     "metadata": {},
     "output_type": "execute_result"
    }
   ],
   "source": [
    "df1=df[df[\"release\"]>2020] # passa todas as linhas que satisfazem condição\n",
    "df1"
   ]
  },
  {
   "cell_type": "code",
   "execution_count": 7,
   "metadata": {},
   "outputs": [],
   "source": [
    "df1.to_csv(\"DataFrame_df1\") #guarda em csv (posso guardar noutros formatos)."
   ]
  }
 ],
 "metadata": {
  "kernelspec": {
   "display_name": "Python 3",
   "language": "python",
   "name": "python3"
  },
  "language_info": {
   "codemirror_mode": {
    "name": "ipython",
    "version": 3
   },
   "file_extension": ".py",
   "mimetype": "text/x-python",
   "name": "python",
   "nbconvert_exporter": "python",
   "pygments_lexer": "ipython3",
   "version": "3.10.0"
  }
 },
 "nbformat": 4,
 "nbformat_minor": 2
}
