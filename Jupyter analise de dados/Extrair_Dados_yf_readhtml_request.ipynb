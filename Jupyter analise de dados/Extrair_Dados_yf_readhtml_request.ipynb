{
 "cells": [
  {
   "cell_type": "code",
   "execution_count": 1,
   "metadata": {},
   "outputs": [],
   "source": [
    "import yfinance # Obter dados a partir de API´s\n",
    "import json # para ler e escrever ficheiros JSON\n",
    "import requests as rq # Obter dados a partir de requests\n",
    "from bs4 import BeautifulSoup as bs\n",
    "import pandas as pd # Obter dados a partir do read_html"
   ]
  },
  {
   "cell_type": "code",
   "execution_count": 2,
   "metadata": {},
   "outputs": [],
   "source": [
    "\n",
    "# EXTRAIR DADOS COM API YFINANCE\n"
   ]
  },
  {
   "cell_type": "code",
   "execution_count": null,
   "metadata": {},
   "outputs": [],
   "source": [
    "apple=yfinance.Ticker(\"AAPL\")\n",
    "apple_info=apple.info\n",
    "apple_info"
   ]
  },
  {
   "cell_type": "code",
   "execution_count": null,
   "metadata": {},
   "outputs": [],
   "source": [
    "apple_info[\"country\"]"
   ]
  },
  {
   "cell_type": "code",
   "execution_count": null,
   "metadata": {},
   "outputs": [],
   "source": [
    "apple_history_5y=apple.history(period=\"5y\") # fornecido como DataFrame\n",
    "apple_history_5y"
   ]
  },
  {
   "cell_type": "code",
   "execution_count": null,
   "metadata": {},
   "outputs": [],
   "source": [
    "apple_history_5y.head()"
   ]
  },
  {
   "cell_type": "code",
   "execution_count": null,
   "metadata": {},
   "outputs": [],
   "source": [
    "apple_history_5y.reset_index(inplace=True) #acrescenta index nas linhas\n",
    "apple_history_5y"
   ]
  },
  {
   "cell_type": "code",
   "execution_count": null,
   "metadata": {},
   "outputs": [],
   "source": [
    "apple_history_5y.plot(x=\"Date\",y=\"Open\") # cria grafico"
   ]
  },
  {
   "cell_type": "code",
   "execution_count": null,
   "metadata": {},
   "outputs": [],
   "source": [
    "apple.dividends"
   ]
  },
  {
   "cell_type": "code",
   "execution_count": null,
   "metadata": {},
   "outputs": [],
   "source": [
    "apple.dividends.plot()"
   ]
  },
  {
   "cell_type": "code",
   "execution_count": 11,
   "metadata": {},
   "outputs": [],
   "source": [
    "\n",
    "# CRIAR DATAFRAME A PARTIR DE UMA TABELA\n",
    " "
   ]
  },
  {
   "cell_type": "code",
   "execution_count": null,
   "metadata": {},
   "outputs": [],
   "source": [
    "url = \"https://cf-courses-data.s3.us.cloud-object-storage.appdomain.cloud/IBMDeveloperSkillsNetwork-PY0220EN-SkillsNetwork/labs/project/netflix_data_webpage.html\"\n",
    "\n",
    "netflix=rq.get(url).text\n",
    "soup=bs(netflix, \"html5lib\")\n",
    "soup"
   ]
  },
  {
   "cell_type": "code",
   "execution_count": 13,
   "metadata": {},
   "outputs": [],
   "source": [
    "df=pd.DataFrame(columns=[\"Date\",\"Open\",\"High\",\"Low\",\"Close\",\"Volume\"])"
   ]
  },
  {
   "cell_type": "code",
   "execution_count": 14,
   "metadata": {},
   "outputs": [],
   "source": [
    "for row in soup.find(\"tbody\").find_all('tr'): # encontra todas as linhas da tabela\n",
    "    col = row.find_all(\"td\") # encontra todas as celulas da linha\n",
    "    date = col[0].text #distribui conteudo da linha pelos headers correspon.\n",
    "    Open = col[1].text\n",
    "    high = col[2].text\n",
    "    low = col[3].text\n",
    "    close = col[4].text\n",
    "    adj_close = col[5].text\n",
    "    volume = col[6].text\n",
    "\n",
    "    df = pd.concat([df,pd.DataFrame({\"Date\":[date], \"Open\":[Open], \"High\":[high], \"Low\":[low], \"Close\":[close], \"Adj Close\":[adj_close], \"Volume\":[volume]})], ignore_index=True)"
   ]
  },
  {
   "cell_type": "code",
   "execution_count": null,
   "metadata": {},
   "outputs": [],
   "source": [
    "df.head()"
   ]
  },
  {
   "cell_type": "code",
   "execution_count": 16,
   "metadata": {},
   "outputs": [],
   "source": [
    "df= df.drop([\"Adj Close\"], axis=1) # deleta coluna\n"
   ]
  },
  {
   "cell_type": "code",
   "execution_count": null,
   "metadata": {},
   "outputs": [],
   "source": [
    "df= df.drop([0,1], axis=0) # apaga linhas\n",
    "df"
   ]
  },
  {
   "cell_type": "code",
   "execution_count": null,
   "metadata": {},
   "outputs": [],
   "source": [
    "linha_2_6=df.iloc[2:7,:] # Passa linhas escolhidas\n",
    "linha_2_6"
   ]
  },
  {
   "cell_type": "code",
   "execution_count": 18,
   "metadata": {},
   "outputs": [],
   "source": [
    "\n",
    "# CRIAR DATAFRAME COM READ_HTML\n"
   ]
  },
  {
   "cell_type": "code",
   "execution_count": 19,
   "metadata": {},
   "outputs": [],
   "source": [
    "url=\"https://pt.wikipedia.org/wiki/Lista_de_jogos_eletr%C3%B4nicos_mais_vendidos\"\n",
    "\n",
    "tabela=pd.read_html(url)"
   ]
  },
  {
   "cell_type": "code",
   "execution_count": null,
   "metadata": {},
   "outputs": [],
   "source": [
    "table=tabela[1]\n",
    "table"
   ]
  },
  {
   "cell_type": "code",
   "execution_count": null,
   "metadata": {},
   "outputs": [],
   "source": [
    "df2=table.iloc[0:4,:]\n",
    "df2=df2.drop(columns=[\"Unnamed: 7\",\"Ref.\"], axis=1) \n",
    "df2 # Sai com links e hiperligações"
   ]
  },
  {
   "cell_type": "code",
   "execution_count": 22,
   "metadata": {},
   "outputs": [],
   "source": [
    "\n",
    "# CRIAR DATAFRAME A PARTIR DE UMA TABELA DA WIKI, MANIPULAR DATAFRAME\n"
   ]
  },
  {
   "cell_type": "code",
   "execution_count": 23,
   "metadata": {},
   "outputs": [],
   "source": [
    "t=rq.get(url).text\n",
    "soup=bs(t, \"html5lib\")"
   ]
  },
  {
   "cell_type": "code",
   "execution_count": 24,
   "metadata": {},
   "outputs": [],
   "source": [
    "table=soup.find_all(\"table\")\n",
    "table\n",
    "segunda_tabela = table[1]"
   ]
  },
  {
   "cell_type": "code",
   "execution_count": null,
   "metadata": {},
   "outputs": [],
   "source": [
    "for linha in segunda_tabela.find(\"tbody\").find_all(\"tr\"):\n",
    "    col=linha.find_all(\"td\")\n",
    "    print(len(col)) # Primeira linha tem len=0"
   ]
  },
  {
   "cell_type": "code",
   "execution_count": null,
   "metadata": {},
   "outputs": [],
   "source": [
    "for linha in segunda_tabela.find(\"tbody\").find_all(\"tr\"): \n",
    "    col=linha.find_all(\"td\")\n",
    "    if len(col)>=6: # Apenas itera sobre linhas com length > 6\n",
    "     print(len(col))"
   ]
  },
  {
   "cell_type": "code",
   "execution_count": 27,
   "metadata": {},
   "outputs": [],
   "source": [
    "df_tabela=pd.DataFrame(columns=[\"Titulo\",\"Vendas\",\"Plataformas\",\"Lançamento inicial\",\"Desenvolvedores\",\"Publicadora\"])\n",
    "\n",
    "for linha in segunda_tabela.find(\"tbody\").find_all(\"tr\"):\n",
    "    col=linha.find_all(\"td\")\n",
    "    if len(col)>=6: # Apenas itera sobre linhas com length > 6\n",
    "        titulo=col[0].text.strip()\n",
    "        vendas=col[1].text.strip() # Metodo do BeautifulSoup, .text-> Extrai conteudo do HTML removendo tags, .strip()-> Retira espaços no fim e no inicio do texto\n",
    "        plataformas=col[2].text.strip()\n",
    "        lançamento_inicial=col[3].text.strip()\n",
    "        desenvolvedores=col[4].text.strip()\n",
    "        publicadora=col[5].text.strip()\n",
    "\n",
    "        df_tabela=pd.concat([df_tabela,pd.DataFrame({\"Titulo\":[titulo],\"Vendas\":[vendas],\"Plataformas\":[plataformas],\"Lançamento inicial\":[lançamento_inicial],\"Desenvolvedores\":[desenvolvedores],\"Publicadora\":[publicadora]})], ignore_index=True)\n"
   ]
  },
  {
   "cell_type": "code",
   "execution_count": null,
   "metadata": {},
   "outputs": [],
   "source": [
    "df_tabela"
   ]
  },
  {
   "cell_type": "code",
   "execution_count": null,
   "metadata": {},
   "outputs": [],
   "source": [
    "lucros=df_tabela[[\"Titulo\",\"Vendas\"]] #Retorna o dataframe com as 2 colunas devido ao [[]]\n",
    "vendas=df_tabela[\"Vendas\"] # Retorna uma série devido ao []\n",
    "vendas"
   ]
  },
  {
   "cell_type": "code",
   "execution_count": null,
   "metadata": {},
   "outputs": [],
   "source": [
    "lista=[]\n",
    "for col in (vendas):\n",
    "    col_int=int(col.replace(\".\",\"\").replace(\",\",\"\")) # Passa de string para int, troca os \".\" e \",\" por nada\n",
    "    lucro=col_int*60\n",
    "    lucro=(\"{:,}\".format(lucro)) #Formatar para colocar virgulas\n",
    "    lista.append(lucro)\n",
    "lista\n",
    "lucros[\"Lucros\"]=lista #atribui Lista ao DataFrame lucros coluna \"Lucros\"\n",
    "    "
   ]
  },
  {
   "cell_type": "code",
   "execution_count": null,
   "metadata": {},
   "outputs": [],
   "source": [
    "lucros"
   ]
  },
  {
   "cell_type": "code",
   "execution_count": null,
   "metadata": {},
   "outputs": [],
   "source": []
  }
 ],
 "metadata": {
  "kernelspec": {
   "display_name": "Python 3",
   "language": "python",
   "name": "python3"
  },
  "language_info": {
   "codemirror_mode": {
    "name": "ipython",
    "version": 3
   },
   "file_extension": ".py",
   "mimetype": "text/x-python",
   "name": "python",
   "nbconvert_exporter": "python",
   "pygments_lexer": "ipython3",
   "version": "3.10.0"
  }
 },
 "nbformat": 4,
 "nbformat_minor": 2
}
