{
 "cells": [
  {
   "cell_type": "code",
   "execution_count": null,
   "metadata": {},
   "outputs": [],
   "source": [
    "# ARRAYS DE 1 DIMENSÃO\n",
    "\n",
    "import numpy as np\n",
    "\n",
    "a=np.array([0,1,2,3,4]) # neste caso array não é lista, todos os elementos devem ser do mesmo tipo\n",
    "\n",
    "# ATRIBUTOS\n",
    "print(a)\n",
    "print(a.dtype) # data type,\n",
    "print(a[3])\n",
    "print(a.size) # tamanho do array\n",
    "print(a.ndim) # numero de dimensoes do array\n",
    "print(a.shape) # tamanho do array em cada dimensão"
   ]
  },
  {
   "cell_type": "code",
   "execution_count": null,
   "metadata": {},
   "outputs": [],
   "source": [
    "# Indexação e Slicing\n",
    "\n",
    "a[1]=100\n",
    "d=a[0:3] # atribuo 3 elementos 0 a 2 de \"a\" a d\n",
    "a[2:4]=[200,300] #troco valores dos indices 2,3 para 200,300\n",
    "print(a)\n",
    "print(d)"
   ]
  },
  {
   "cell_type": "code",
   "execution_count": null,
   "metadata": {},
   "outputs": [],
   "source": [
    "# Operações em vetores\n",
    "\n",
    "u=np.array([1,2,3])\n",
    "v=np.array([3,2,1])\n",
    "t=np.array([2,3,6,5,4,7,0])\n",
    "\n",
    "sum=u+v # ou sum=np.add(u,v)\n",
    "print(sum)\n",
    "\n",
    "div=u/v # ou div=np.divide(u,v)\n",
    "print(div)\n",
    "\n",
    "dif=u-v # ou dif=np.subtract(u,v)\n",
    "print(dif)\n",
    "\n",
    "mult_escalar=3*u \n",
    "print(mult_escalar) \n",
    "\n",
    "mult_vetores=v*u # ou mult=np.multiply(u,v)\n",
    "print(mult_vetores)\n",
    "\n",
    "#faz mais rapido operaçoes em vetores assim do que com funções de python\n",
    "\n",
    "prod_escalar=np.dot(u,v)\n",
    "print(prod_escalar)\n",
    "\n",
    "w=u+1 # adiciona 1 a cada elemento de u\n",
    "print(w) \n",
    "\n"
   ]
  },
  {
   "cell_type": "code",
   "execution_count": null,
   "metadata": {},
   "outputs": [],
   "source": [
    "# Funções universais\n",
    "\n",
    "a=t.mean() # retorna media dos elementos do array\n",
    "print(a)\n",
    "\n",
    "a=t.max() # retorna maior elemento do array\n",
    "print(a)\n",
    "\n",
    "np.pi # retorna pi\n",
    "\n",
    "x=np.array([0,np.pi/2,np.pi])\n",
    "y=np.sin(x) # coloca sin() em todos os elementos de x\n",
    "print(x)\n",
    "print(y)\n",
    "\n",
    "np.linspace(-5,5,num=11) # retorna \"num\" numeros evenly-spaces entre -5 e 5\n"
   ]
  },
  {
   "cell_type": "code",
   "execution_count": null,
   "metadata": {},
   "outputs": [],
   "source": [
    "x=np.linspace(0,2*np.pi,100)\n",
    "y=np.sin(x)\n",
    "import matplotlib.pyplot as plt # matplot serve para desenhar graficos funçoes\n",
    "\n",
    "plt.plot(x,y)"
   ]
  },
  {
   "cell_type": "code",
   "execution_count": null,
   "metadata": {},
   "outputs": [],
   "source": [
    "# ARRAYS DE 2 DIMENSÕES ------------------------------------------------"
   ]
  },
  {
   "cell_type": "code",
   "execution_count": null,
   "metadata": {},
   "outputs": [],
   "source": [
    "\n",
    "\n",
    "a=[[1,2,3],[4,5,6],[7,8,9]]\n",
    "\n",
    "A=np.array(a)\n",
    "print(A)\n",
    "\n",
    "print(A[1][1])\n",
    "print(A[1,1])\n",
    "\n",
    "print(A.size)\n",
    "print(A.ndim)\n",
    "print(A.shape)\n",
    "\n",
    "B=A[0,0:3]\n",
    "print(B)\n",
    "\n",
    "C=A[0:3,1]\n",
    "print(C)"
   ]
  },
  {
   "cell_type": "code",
   "execution_count": null,
   "metadata": {},
   "outputs": [],
   "source": [
    "x=np.array([[1,2],[2,1]])\n",
    "y=np.array([[2,1],[1,2]])\n",
    "\n",
    "sum=x+y\n",
    "print(sum)\n",
    "\n",
    "mult=3*x\n",
    "print(mult)\n",
    "\n",
    "mult_arr=x*y # multiplica entrada por entrada (não faz multiplicação matricial)\n",
    "print(mult_arr)\n",
    "\n",
    "mult_matrizes=np.dot(x,y) # multiplica matrizes\n",
    "print(mult_matrizes)"
   ]
  }
 ],
 "metadata": {
  "kernelspec": {
   "display_name": "Python 3",
   "language": "python",
   "name": "python3"
  },
  "language_info": {
   "codemirror_mode": {
    "name": "ipython",
    "version": 3
   },
   "file_extension": ".py",
   "mimetype": "text/x-python",
   "name": "python",
   "nbconvert_exporter": "python",
   "pygments_lexer": "ipython3",
   "version": "3.10.0"
  }
 },
 "nbformat": 4,
 "nbformat_minor": 2
}
