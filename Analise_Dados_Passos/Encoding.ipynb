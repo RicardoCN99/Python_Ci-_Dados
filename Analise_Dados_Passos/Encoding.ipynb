{
 "cells": [
  {
   "cell_type": "code",
   "execution_count": null,
   "metadata": {},
   "outputs": [],
   "source": [
    "import pandas as pd"
   ]
  },
  {
   "cell_type": "code",
   "execution_count": null,
   "metadata": {},
   "outputs": [],
   "source": [
    "df=pd.read_csv(\"anime_20linhas.csv\")"
   ]
  },
  {
   "cell_type": "code",
   "execution_count": null,
   "metadata": {},
   "outputs": [],
   "source": [
    "df"
   ]
  },
  {
   "cell_type": "code",
   "execution_count": null,
   "metadata": {},
   "outputs": [],
   "source": [
    "list=(\"Netflix\",\"Netflix\",\"Netflix\",\"Netflix\",\"Crunchyroll\",\"Crunchyroll\",\"Crunchyroll\",\"Crunchyroll\",\"Crunchyroll\",\"Crunchyroll\",\"Crunchyroll\",\"Netflix\",\"Netflix\",\"Netflix\",\"Netflix\",\"Netflix\",\"Netflix\",\"Netflix\",\"HBO\",\"HBO\",\"Netflix\")\n",
    "df[\"Licensors\"]=list\n",
    "df.rename(columns={\"Licensors\" : \"Licensors_changed\"},inplace=True)\n",
    "df"
   ]
  },
  {
   "cell_type": "code",
   "execution_count": null,
   "metadata": {},
   "outputs": [],
   "source": [
    "df2=pd.get_dummies(df['Licensors_changed']).astype(int) # retorna valores em coluna\n",
    "df2"
   ]
  }
 ],
 "metadata": {
  "kernelspec": {
   "display_name": "Python 3",
   "language": "python",
   "name": "python3"
  },
  "language_info": {
   "codemirror_mode": {
    "name": "ipython",
    "version": 3
   },
   "file_extension": ".py",
   "mimetype": "text/x-python",
   "name": "python",
   "nbconvert_exporter": "python",
   "pygments_lexer": "ipython3",
   "version": "3.10.0"
  }
 },
 "nbformat": 4,
 "nbformat_minor": 2
}
