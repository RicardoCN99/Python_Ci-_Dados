{
 "cells": [
  {
   "cell_type": "code",
   "execution_count": 1,
   "metadata": {},
   "outputs": [],
   "source": [
    "import pandas as pd"
   ]
  },
  {
   "cell_type": "code",
   "execution_count": 2,
   "metadata": {},
   "outputs": [],
   "source": [
    "df=pd.read_csv(\"anime_dataset.csv\")"
   ]
  },
  {
   "cell_type": "code",
   "execution_count": 3,
   "metadata": {},
   "outputs": [
    {
     "data": {
      "text/html": [
       "<div>\n",
       "<style scoped>\n",
       "    .dataframe tbody tr th:only-of-type {\n",
       "        vertical-align: middle;\n",
       "    }\n",
       "\n",
       "    .dataframe tbody tr th {\n",
       "        vertical-align: top;\n",
       "    }\n",
       "\n",
       "    .dataframe thead th {\n",
       "        text-align: right;\n",
       "    }\n",
       "</style>\n",
       "<table border=\"1\" class=\"dataframe\">\n",
       "  <thead>\n",
       "    <tr style=\"text-align: right;\">\n",
       "      <th></th>\n",
       "      <th>Anime_ID</th>\n",
       "      <th>Title</th>\n",
       "      <th>Genre</th>\n",
       "      <th>Episodes</th>\n",
       "      <th>Type</th>\n",
       "      <th>Studio</th>\n",
       "      <th>Source</th>\n",
       "      <th>Rating</th>\n",
       "      <th>Popularity</th>\n",
       "      <th>Members</th>\n",
       "      <th>Favorites</th>\n",
       "      <th>Airing_Start</th>\n",
       "      <th>Airing_End</th>\n",
       "      <th>Duration</th>\n",
       "      <th>Broadcast_Day</th>\n",
       "      <th>Producers</th>\n",
       "      <th>Licensors</th>\n",
       "      <th>Score</th>\n",
       "      <th>Rank</th>\n",
       "      <th>Synopsis</th>\n",
       "    </tr>\n",
       "  </thead>\n",
       "  <tbody>\n",
       "    <tr>\n",
       "      <th>0</th>\n",
       "      <td>1</td>\n",
       "      <td>Teach under work</td>\n",
       "      <td>Fantasy, Horror, Action</td>\n",
       "      <td>36</td>\n",
       "      <td>TV</td>\n",
       "      <td>J.C.Staff</td>\n",
       "      <td>Webtoon</td>\n",
       "      <td>7.67</td>\n",
       "      <td>4954</td>\n",
       "      <td>236999</td>\n",
       "      <td>39747</td>\n",
       "      <td>2018-12-12</td>\n",
       "      <td>2026-05-17</td>\n",
       "      <td>54</td>\n",
       "      <td>Monday</td>\n",
       "      <td>TV Tokyo, Kodansha</td>\n",
       "      <td>Viz Media</td>\n",
       "      <td>5.42</td>\n",
       "      <td>13948</td>\n",
       "      <td>Order per far even something of never. Natural...</td>\n",
       "    </tr>\n",
       "    <tr>\n",
       "      <th>1</th>\n",
       "      <td>2</td>\n",
       "      <td>Phone star</td>\n",
       "      <td>Romance, Action</td>\n",
       "      <td>58</td>\n",
       "      <td>ONA</td>\n",
       "      <td>Ufotable</td>\n",
       "      <td>Game</td>\n",
       "      <td>7.83</td>\n",
       "      <td>5484</td>\n",
       "      <td>450384</td>\n",
       "      <td>41331</td>\n",
       "      <td>2024-08-31</td>\n",
       "      <td>2027-02-25</td>\n",
       "      <td>50</td>\n",
       "      <td>Sunday</td>\n",
       "      <td>Kodansha</td>\n",
       "      <td>Viz Media</td>\n",
       "      <td>6.98</td>\n",
       "      <td>14869</td>\n",
       "      <td>Realize mean situation high sing. Seek could e...</td>\n",
       "    </tr>\n",
       "    <tr>\n",
       "      <th>2</th>\n",
       "      <td>3</td>\n",
       "      <td>Guy explain human everybody</td>\n",
       "      <td>Drama, Comedy</td>\n",
       "      <td>2</td>\n",
       "      <td>ONA</td>\n",
       "      <td>Wit Studio</td>\n",
       "      <td>Game</td>\n",
       "      <td>6.67</td>\n",
       "      <td>3840</td>\n",
       "      <td>871129</td>\n",
       "      <td>9746</td>\n",
       "      <td>2015-08-13</td>\n",
       "      <td>2025-12-22</td>\n",
       "      <td>46</td>\n",
       "      <td>Saturday</td>\n",
       "      <td>Bandai Namco, Aniplex</td>\n",
       "      <td>Funimation, Crunchyroll</td>\n",
       "      <td>7.85</td>\n",
       "      <td>18212</td>\n",
       "      <td>Simple attack radio mission enjoy know. Find e...</td>\n",
       "    </tr>\n",
       "  </tbody>\n",
       "</table>\n",
       "</div>"
      ],
      "text/plain": [
       "   Anime_ID                        Title                    Genre  Episodes  \\\n",
       "0         1             Teach under work  Fantasy, Horror, Action        36   \n",
       "1         2                   Phone star          Romance, Action        58   \n",
       "2         3  Guy explain human everybody            Drama, Comedy         2   \n",
       "\n",
       "  Type      Studio   Source  Rating  Popularity  Members  Favorites  \\\n",
       "0   TV   J.C.Staff  Webtoon    7.67        4954   236999      39747   \n",
       "1  ONA    Ufotable     Game    7.83        5484   450384      41331   \n",
       "2  ONA  Wit Studio     Game    6.67        3840   871129       9746   \n",
       "\n",
       "  Airing_Start  Airing_End  Duration Broadcast_Day              Producers  \\\n",
       "0   2018-12-12  2026-05-17        54        Monday     TV Tokyo, Kodansha   \n",
       "1   2024-08-31  2027-02-25        50        Sunday               Kodansha   \n",
       "2   2015-08-13  2025-12-22        46      Saturday  Bandai Namco, Aniplex   \n",
       "\n",
       "                 Licensors  Score   Rank  \\\n",
       "0                Viz Media   5.42  13948   \n",
       "1                Viz Media   6.98  14869   \n",
       "2  Funimation, Crunchyroll   7.85  18212   \n",
       "\n",
       "                                            Synopsis  \n",
       "0  Order per far even something of never. Natural...  \n",
       "1  Realize mean situation high sing. Seek could e...  \n",
       "2  Simple attack radio mission enjoy know. Find e...  "
      ]
     },
     "execution_count": 3,
     "metadata": {},
     "output_type": "execute_result"
    }
   ],
   "source": [
    "df.head(3)"
   ]
  },
  {
   "cell_type": "code",
   "execution_count": 4,
   "metadata": {},
   "outputs": [],
   "source": [
    "df=df.loc[: 20, :]"
   ]
  },
  {
   "cell_type": "code",
   "execution_count": 5,
   "metadata": {},
   "outputs": [
    {
     "name": "stdout",
     "output_type": "stream",
     "text": [
      "<class 'pandas.core.frame.DataFrame'>\n",
      "RangeIndex: 21 entries, 0 to 20\n",
      "Data columns (total 20 columns):\n",
      " #   Column         Non-Null Count  Dtype  \n",
      "---  ------         --------------  -----  \n",
      " 0   Anime_ID       21 non-null     int64  \n",
      " 1   Title          21 non-null     object \n",
      " 2   Genre          21 non-null     object \n",
      " 3   Episodes       21 non-null     int64  \n",
      " 4   Type           21 non-null     object \n",
      " 5   Studio         21 non-null     object \n",
      " 6   Source         21 non-null     object \n",
      " 7   Rating         21 non-null     float64\n",
      " 8   Popularity     21 non-null     int64  \n",
      " 9   Members        21 non-null     int64  \n",
      " 10  Favorites      21 non-null     int64  \n",
      " 11  Airing_Start   21 non-null     object \n",
      " 12  Airing_End     21 non-null     object \n",
      " 13  Duration       21 non-null     int64  \n",
      " 14  Broadcast_Day  21 non-null     object \n",
      " 15  Producers      21 non-null     object \n",
      " 16  Licensors      21 non-null     object \n",
      " 17  Score          21 non-null     float64\n",
      " 18  Rank           21 non-null     int64  \n",
      " 19  Synopsis       21 non-null     object \n",
      "dtypes: float64(2), int64(7), object(11)\n",
      "memory usage: 3.4+ KB\n"
     ]
    }
   ],
   "source": [
    "df.info()"
   ]
  },
  {
   "cell_type": "code",
   "execution_count": 6,
   "metadata": {},
   "outputs": [
    {
     "data": {
      "text/plain": [
       "Anime_ID           int64\n",
       "Title             object\n",
       "Genre             object\n",
       "Episodes           int64\n",
       "Type              object\n",
       "Studio            object\n",
       "Source            object\n",
       "Rating           float64\n",
       "Popularity         int64\n",
       "Members            int64\n",
       "Favorites          int64\n",
       "Airing_Start      object\n",
       "Airing_End        object\n",
       "Duration           int64\n",
       "Broadcast_Day     object\n",
       "Producers         object\n",
       "Licensors         object\n",
       "Score            float64\n",
       "Rank               int64\n",
       "Synopsis          object\n",
       "dtype: object"
      ]
     },
     "execution_count": 6,
     "metadata": {},
     "output_type": "execute_result"
    }
   ],
   "source": [
    "df.dtypes"
   ]
  },
  {
   "cell_type": "code",
   "execution_count": 7,
   "metadata": {},
   "outputs": [],
   "source": [
    "df[\"Airing_End\"]=pd.to_datetime(df[\"Airing_End\"], format=\"%Y-%m-%d\")\n",
    "df[\"Airing_Start\"]=pd.to_datetime(df[\"Airing_End\"], format=\"%Y-%m-%d\")"
   ]
  },
  {
   "cell_type": "code",
   "execution_count": 8,
   "metadata": {},
   "outputs": [],
   "source": [
    "\n",
    "list=[\"Rank\",\"Score\",\"Members\",\"Popularity\",\"Rating\",\"Episodes\"]\n",
    "\n",
    "df[list] = df[list].astype(\"float\")\n",
    "\n",
    "# ou\n",
    "#for i in list:\n",
    "#   df[i]=pd.to_numeric(df[i]), muda para float ou int dependendo da entrada"
   ]
  },
  {
   "cell_type": "code",
   "execution_count": 9,
   "metadata": {},
   "outputs": [
    {
     "data": {
      "text/plain": [
       "Anime_ID                  int64\n",
       "Title                    object\n",
       "Genre                    object\n",
       "Episodes                float64\n",
       "Type                     object\n",
       "Studio                   object\n",
       "Source                   object\n",
       "Rating                  float64\n",
       "Popularity              float64\n",
       "Members                 float64\n",
       "Favorites                 int64\n",
       "Airing_Start     datetime64[ns]\n",
       "Airing_End       datetime64[ns]\n",
       "Duration                  int64\n",
       "Broadcast_Day            object\n",
       "Producers                object\n",
       "Licensors                object\n",
       "Score                   float64\n",
       "Rank                    float64\n",
       "Synopsis                 object\n",
       "dtype: object"
      ]
     },
     "execution_count": 9,
     "metadata": {},
     "output_type": "execute_result"
    }
   ],
   "source": [
    "df.dtypes"
   ]
  },
  {
   "cell_type": "code",
   "execution_count": 10,
   "metadata": {},
   "outputs": [
    {
     "data": {
      "text/html": [
       "<div>\n",
       "<style scoped>\n",
       "    .dataframe tbody tr th:only-of-type {\n",
       "        vertical-align: middle;\n",
       "    }\n",
       "\n",
       "    .dataframe tbody tr th {\n",
       "        vertical-align: top;\n",
       "    }\n",
       "\n",
       "    .dataframe thead th {\n",
       "        text-align: right;\n",
       "    }\n",
       "</style>\n",
       "<table border=\"1\" class=\"dataframe\">\n",
       "  <thead>\n",
       "    <tr style=\"text-align: right;\">\n",
       "      <th></th>\n",
       "      <th>Anime_ID</th>\n",
       "      <th>Episodes</th>\n",
       "      <th>Rating</th>\n",
       "      <th>Popularity</th>\n",
       "      <th>Members</th>\n",
       "      <th>Favorites</th>\n",
       "      <th>Airing_Start</th>\n",
       "      <th>Airing_End</th>\n",
       "      <th>Duration</th>\n",
       "      <th>Score</th>\n",
       "      <th>Rank</th>\n",
       "    </tr>\n",
       "  </thead>\n",
       "  <tbody>\n",
       "    <tr>\n",
       "      <th>count</th>\n",
       "      <td>21.000000</td>\n",
       "      <td>21.000000</td>\n",
       "      <td>21.000000</td>\n",
       "      <td>21.000000</td>\n",
       "      <td>21.000000</td>\n",
       "      <td>21.000000</td>\n",
       "      <td>21</td>\n",
       "      <td>21</td>\n",
       "      <td>21.000000</td>\n",
       "      <td>21.000000</td>\n",
       "      <td>21.000000</td>\n",
       "    </tr>\n",
       "    <tr>\n",
       "      <th>mean</th>\n",
       "      <td>11.000000</td>\n",
       "      <td>49.095238</td>\n",
       "      <td>7.020952</td>\n",
       "      <td>5425.047619</td>\n",
       "      <td>435797.476190</td>\n",
       "      <td>27160.761905</td>\n",
       "      <td>2027-10-11 22:51:25.714285824</td>\n",
       "      <td>2027-10-11 22:51:25.714285824</td>\n",
       "      <td>35.761905</td>\n",
       "      <td>7.447619</td>\n",
       "      <td>9126.428571</td>\n",
       "    </tr>\n",
       "    <tr>\n",
       "      <th>min</th>\n",
       "      <td>1.000000</td>\n",
       "      <td>2.000000</td>\n",
       "      <td>5.010000</td>\n",
       "      <td>26.000000</td>\n",
       "      <td>88032.000000</td>\n",
       "      <td>2719.000000</td>\n",
       "      <td>2025-06-17 00:00:00</td>\n",
       "      <td>2025-06-17 00:00:00</td>\n",
       "      <td>10.000000</td>\n",
       "      <td>5.080000</td>\n",
       "      <td>1217.000000</td>\n",
       "    </tr>\n",
       "    <tr>\n",
       "      <th>25%</th>\n",
       "      <td>6.000000</td>\n",
       "      <td>35.000000</td>\n",
       "      <td>6.250000</td>\n",
       "      <td>3144.000000</td>\n",
       "      <td>230890.000000</td>\n",
       "      <td>14561.000000</td>\n",
       "      <td>2026-08-23 00:00:00</td>\n",
       "      <td>2026-08-23 00:00:00</td>\n",
       "      <td>23.000000</td>\n",
       "      <td>6.230000</td>\n",
       "      <td>6616.000000</td>\n",
       "    </tr>\n",
       "    <tr>\n",
       "      <th>50%</th>\n",
       "      <td>11.000000</td>\n",
       "      <td>46.000000</td>\n",
       "      <td>6.670000</td>\n",
       "      <td>5484.000000</td>\n",
       "      <td>450384.000000</td>\n",
       "      <td>27632.000000</td>\n",
       "      <td>2027-11-26 00:00:00</td>\n",
       "      <td>2027-11-26 00:00:00</td>\n",
       "      <td>28.000000</td>\n",
       "      <td>7.180000</td>\n",
       "      <td>8890.000000</td>\n",
       "    </tr>\n",
       "    <tr>\n",
       "      <th>75%</th>\n",
       "      <td>16.000000</td>\n",
       "      <td>59.000000</td>\n",
       "      <td>7.830000</td>\n",
       "      <td>7256.000000</td>\n",
       "      <td>598114.000000</td>\n",
       "      <td>39747.000000</td>\n",
       "      <td>2028-12-25 00:00:00</td>\n",
       "      <td>2028-12-25 00:00:00</td>\n",
       "      <td>50.000000</td>\n",
       "      <td>8.790000</td>\n",
       "      <td>12337.000000</td>\n",
       "    </tr>\n",
       "    <tr>\n",
       "      <th>max</th>\n",
       "      <td>21.000000</td>\n",
       "      <td>98.000000</td>\n",
       "      <td>9.850000</td>\n",
       "      <td>9849.000000</td>\n",
       "      <td>871129.000000</td>\n",
       "      <td>47907.000000</td>\n",
       "      <td>2030-01-21 00:00:00</td>\n",
       "      <td>2030-01-21 00:00:00</td>\n",
       "      <td>59.000000</td>\n",
       "      <td>9.850000</td>\n",
       "      <td>18212.000000</td>\n",
       "    </tr>\n",
       "    <tr>\n",
       "      <th>std</th>\n",
       "      <td>6.204837</td>\n",
       "      <td>26.298108</td>\n",
       "      <td>1.305791</td>\n",
       "      <td>2852.600892</td>\n",
       "      <td>240992.857066</td>\n",
       "      <td>13968.031006</td>\n",
       "      <td>NaN</td>\n",
       "      <td>NaN</td>\n",
       "      <td>14.993014</td>\n",
       "      <td>1.547465</td>\n",
       "      <td>4965.776138</td>\n",
       "    </tr>\n",
       "  </tbody>\n",
       "</table>\n",
       "</div>"
      ],
      "text/plain": [
       "        Anime_ID   Episodes     Rating   Popularity        Members  \\\n",
       "count  21.000000  21.000000  21.000000    21.000000      21.000000   \n",
       "mean   11.000000  49.095238   7.020952  5425.047619  435797.476190   \n",
       "min     1.000000   2.000000   5.010000    26.000000   88032.000000   \n",
       "25%     6.000000  35.000000   6.250000  3144.000000  230890.000000   \n",
       "50%    11.000000  46.000000   6.670000  5484.000000  450384.000000   \n",
       "75%    16.000000  59.000000   7.830000  7256.000000  598114.000000   \n",
       "max    21.000000  98.000000   9.850000  9849.000000  871129.000000   \n",
       "std     6.204837  26.298108   1.305791  2852.600892  240992.857066   \n",
       "\n",
       "          Favorites                   Airing_Start  \\\n",
       "count     21.000000                             21   \n",
       "mean   27160.761905  2027-10-11 22:51:25.714285824   \n",
       "min     2719.000000            2025-06-17 00:00:00   \n",
       "25%    14561.000000            2026-08-23 00:00:00   \n",
       "50%    27632.000000            2027-11-26 00:00:00   \n",
       "75%    39747.000000            2028-12-25 00:00:00   \n",
       "max    47907.000000            2030-01-21 00:00:00   \n",
       "std    13968.031006                            NaN   \n",
       "\n",
       "                          Airing_End   Duration      Score          Rank  \n",
       "count                             21  21.000000  21.000000     21.000000  \n",
       "mean   2027-10-11 22:51:25.714285824  35.761905   7.447619   9126.428571  \n",
       "min              2025-06-17 00:00:00  10.000000   5.080000   1217.000000  \n",
       "25%              2026-08-23 00:00:00  23.000000   6.230000   6616.000000  \n",
       "50%              2027-11-26 00:00:00  28.000000   7.180000   8890.000000  \n",
       "75%              2028-12-25 00:00:00  50.000000   8.790000  12337.000000  \n",
       "max              2030-01-21 00:00:00  59.000000   9.850000  18212.000000  \n",
       "std                              NaN  14.993014   1.547465   4965.776138  "
      ]
     },
     "execution_count": 10,
     "metadata": {},
     "output_type": "execute_result"
    }
   ],
   "source": [
    "df.describe()"
   ]
  },
  {
   "cell_type": "code",
   "execution_count": 11,
   "metadata": {},
   "outputs": [
    {
     "data": {
      "text/plain": [
       "6"
      ]
     },
     "execution_count": 11,
     "metadata": {},
     "output_type": "execute_result"
    }
   ],
   "source": [
    "e=df[\"Rank\"].idxmin()\n",
    "e"
   ]
  },
  {
   "cell_type": "code",
   "execution_count": 13,
   "metadata": {},
   "outputs": [
    {
     "data": {
      "text/plain": [
       "Anime_ID                                                        21\n",
       "Title                                                  Indeed west\n",
       "Genre                                              Comedy, Fantasy\n",
       "Episodes                                                      35.0\n",
       "Type                                                       Special\n",
       "Studio                                                  Wit Studio\n",
       "Source                                                        Game\n",
       "Rating                                                        6.26\n",
       "Popularity                                                  7256.0\n",
       "Members                                                    88032.0\n",
       "Favorites                                                    40947\n",
       "Airing_Start                                   2025-06-17 00:00:00\n",
       "Airing_End                                     2025-06-17 00:00:00\n",
       "Duration                                                        28\n",
       "Broadcast_Day                                               Friday\n",
       "Producers                                                 Kadokawa\n",
       "Licensors                                                Viz Media\n",
       "Score                                                         5.83\n",
       "Rank                                                        8781.0\n",
       "Synopsis         Soldier during teach ball. Argue boy effect tr...\n",
       "Name: 20, dtype: object"
      ]
     },
     "execution_count": 13,
     "metadata": {},
     "output_type": "execute_result"
    }
   ],
   "source": [
    "df.iloc[20,:]"
   ]
  },
  {
   "cell_type": "code",
   "execution_count": 14,
   "metadata": {},
   "outputs": [
    {
     "data": {
      "text/plain": [
       "6"
      ]
     },
     "execution_count": 14,
     "metadata": {},
     "output_type": "execute_result"
    }
   ],
   "source": [
    "a=df[\"Rating\"].idxmax()\n",
    "a"
   ]
  },
  {
   "cell_type": "code",
   "execution_count": 15,
   "metadata": {},
   "outputs": [
    {
     "data": {
      "text/plain": [
       "Anime_ID                                                         7\n",
       "Title                                          Now floor hair free\n",
       "Genre                                            Sci-Fi, Adventure\n",
       "Episodes                                                      45.0\n",
       "Type                                                           ONA\n",
       "Studio                                                   J.C.Staff\n",
       "Source                                                        Game\n",
       "Rating                                                        9.85\n",
       "Popularity                                                  1086.0\n",
       "Members                                                   427479.0\n",
       "Favorites                                                    34746\n",
       "Airing_Start                                   2027-01-24 00:00:00\n",
       "Airing_End                                     2027-01-24 00:00:00\n",
       "Duration                                                        26\n",
       "Broadcast_Day                                            Wednesday\n",
       "Producers                                   Bandai Namco, Kadokawa\n",
       "Licensors                                              Crunchyroll\n",
       "Score                                                         9.85\n",
       "Rank                                                        1217.0\n",
       "Synopsis         Fish use attack. Hear section yet if sort happ...\n",
       "Name: 6, dtype: object"
      ]
     },
     "execution_count": 15,
     "metadata": {},
     "output_type": "execute_result"
    }
   ],
   "source": [
    "df.iloc[6,:]"
   ]
  },
  {
   "cell_type": "code",
   "execution_count": null,
   "metadata": {},
   "outputs": [],
   "source": [
    "df.columns"
   ]
  },
  {
   "cell_type": "code",
   "execution_count": null,
   "metadata": {},
   "outputs": [],
   "source": [
    "df.to_csv(\"anime_20linhas.csv\",index=False)"
   ]
  },
  {
   "cell_type": "code",
   "execution_count": null,
   "metadata": {},
   "outputs": [],
   "source": [
    "coluna=df[\"Producers\"]\n",
    "type(coluna)\n"
   ]
  },
  {
   "cell_type": "code",
   "execution_count": null,
   "metadata": {},
   "outputs": [],
   "source": [
    "coluna"
   ]
  },
  {
   "cell_type": "code",
   "execution_count": null,
   "metadata": {},
   "outputs": [],
   "source": []
  }
 ],
 "metadata": {
  "kernelspec": {
   "display_name": "Python 3",
   "language": "python",
   "name": "python3"
  },
  "language_info": {
   "codemirror_mode": {
    "name": "ipython",
    "version": 3
   },
   "file_extension": ".py",
   "mimetype": "text/x-python",
   "name": "python",
   "nbconvert_exporter": "python",
   "pygments_lexer": "ipython3",
   "version": "3.10.0"
  }
 },
 "nbformat": 4,
 "nbformat_minor": 2
}
